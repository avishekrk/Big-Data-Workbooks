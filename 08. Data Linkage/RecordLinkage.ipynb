{
 "cells": [
  {
   "cell_type": "markdown",
   "metadata": {},
   "source": [
    "# Record Linkage Adapted from [here](https://github.com/CSSIP-AIR/Big-Data-Workbooks/blob/master/08.%20Data%20Linkage/Record%20Linkage.ipynb)\n",
    "\n",
    "---\n",
    "\n",
    "## Introduction\n",
    "\n",
    "The goal of record linkage is to determine if pairs of records describe the same identity. This is important for removing duplicates from a data source or joining two separate data sources together. Record linkage also goes by the terms data matching, merge/purge, duplication detection, de-duping, reference matching, co-reference/anaphora in various fields. There are several approaches to record linkage that include exact matching, rule-based linking and probabilistic linking. An example of exact matching is joining records based on social security number. Rule-based matching involves applying a cascading set of rules that relect the domain knowledge of the records being linked. In probabilistic record linkage, linkage weights are calculated based on records and a threshold is applied to make a decision of whether to link records or not. This tutorial will cover preprocessing data, rule-based linkage and probabilitic linkage using the Felligi-Sunter model. \n",
    "\n",
    "## Table of Contents\n",
    "\n",
    "1. [Load the data](#Load-the-Data)\n",
    "2. [Explore the data](#Data-Exploration)\n",
    "3. [Preprocess the Data](#Preprocess:-clean-Up-Names-and-separate-to-first-middle-and-last-name)\n",
    "4. [Explore Metrics](#String-Comparators)\n",
    "5. [Create Rule-Based Linking](#Create-A-Rule-Based-System-for-record-matching.)\n",
    "6. [Create Probabilistic Liking Using Felligi Sunter](#Probabilisic-Record-Linkage)"
   ]
  },
  {
   "cell_type": "code",
   "execution_count": 1,
   "metadata": {
    "collapsed": false
   },
   "outputs": [
    {
     "name": "stdout",
     "output_type": "stream",
     "text": [
      "Populating the interactive namespace from numpy and matplotlib\n"
     ]
    }
   ],
   "source": [
    "%pylab inline\n",
    "from __future__ import print_function\n",
    "from six.moves import zip, range\n",
    "import pandas as pd\n",
    "import jellyfish\n",
    "from collections import OrderedDict"
   ]
  },
  {
   "cell_type": "markdown",
   "metadata": {},
   "source": [
    "# Load the Data "
   ]
  },
  {
   "cell_type": "markdown",
   "metadata": {},
   "source": [
    "Our first dataset is all nsf grants awarded between 2010-2012"
   ]
  },
  {
   "cell_type": "code",
   "execution_count": 2,
   "metadata": {
    "collapsed": true
   },
   "outputs": [],
   "source": [
    "df_nsf_awards = pd.read_csv('./Datasets/nsf_awards_2010-2012.csv')"
   ]
  },
  {
   "cell_type": "code",
   "execution_count": 3,
   "metadata": {
    "collapsed": false
   },
   "outputs": [
    {
     "data": {
      "text/html": [
       "<div>\n",
       "<table border=\"1\" class=\"dataframe\">\n",
       "  <thead>\n",
       "    <tr style=\"text-align: right;\">\n",
       "      <th></th>\n",
       "      <th>AwardId</th>\n",
       "      <th>FirstName</th>\n",
       "      <th>LastName</th>\n",
       "      <th>StartDate</th>\n",
       "      <th>EndDate</th>\n",
       "      <th>AwardTitle</th>\n",
       "      <th>AwardEffectiveDate</th>\n",
       "      <th>AwardExpirationDate</th>\n",
       "      <th>Name</th>\n",
       "      <th>CityName</th>\n",
       "      <th>ZipCode</th>\n",
       "      <th>PhoneNumber</th>\n",
       "      <th>StreetAddress</th>\n",
       "      <th>CountryName</th>\n",
       "      <th>StateName</th>\n",
       "      <th>StateCode</th>\n",
       "    </tr>\n",
       "  </thead>\n",
       "  <tbody>\n",
       "    <tr>\n",
       "      <th>0</th>\n",
       "      <td>415302</td>\n",
       "      <td>Jeffrey</td>\n",
       "      <td>Kuhn</td>\n",
       "      <td>2010-01-15</td>\n",
       "      <td>NaN</td>\n",
       "      <td>Advanced Technology Solar Telescope (ATST) Con...</td>\n",
       "      <td>2010-01-01</td>\n",
       "      <td>2015-09-30</td>\n",
       "      <td>Association of Universities for Research in As...</td>\n",
       "      <td>Washington</td>\n",
       "      <td>20005-3929</td>\n",
       "      <td>2.024832e+09</td>\n",
       "      <td>1212 New York Avenue, N.W.,</td>\n",
       "      <td>United States</td>\n",
       "      <td>District of Columbia</td>\n",
       "      <td>DC</td>\n",
       "    </tr>\n",
       "    <tr>\n",
       "      <th>1</th>\n",
       "      <td>415302</td>\n",
       "      <td>Robert</td>\n",
       "      <td>Rosner</td>\n",
       "      <td>2010-01-15</td>\n",
       "      <td>NaN</td>\n",
       "      <td>Advanced Technology Solar Telescope (ATST) Con...</td>\n",
       "      <td>2010-01-01</td>\n",
       "      <td>2015-09-30</td>\n",
       "      <td>Association of Universities for Research in As...</td>\n",
       "      <td>Washington</td>\n",
       "      <td>20005-3929</td>\n",
       "      <td>2.024832e+09</td>\n",
       "      <td>1212 New York Avenue, N.W.,</td>\n",
       "      <td>United States</td>\n",
       "      <td>District of Columbia</td>\n",
       "      <td>DC</td>\n",
       "    </tr>\n",
       "    <tr>\n",
       "      <th>2</th>\n",
       "      <td>415302</td>\n",
       "      <td>Philip</td>\n",
       "      <td>Goode</td>\n",
       "      <td>2010-01-15</td>\n",
       "      <td>NaN</td>\n",
       "      <td>Advanced Technology Solar Telescope (ATST) Con...</td>\n",
       "      <td>2010-01-01</td>\n",
       "      <td>2015-09-30</td>\n",
       "      <td>Association of Universities for Research in As...</td>\n",
       "      <td>Washington</td>\n",
       "      <td>20005-3929</td>\n",
       "      <td>2.024832e+09</td>\n",
       "      <td>1212 New York Avenue, N.W.,</td>\n",
       "      <td>United States</td>\n",
       "      <td>District of Columbia</td>\n",
       "      <td>DC</td>\n",
       "    </tr>\n",
       "    <tr>\n",
       "      <th>3</th>\n",
       "      <td>415302</td>\n",
       "      <td>Thomas</td>\n",
       "      <td>Rimmele</td>\n",
       "      <td>2012-03-15</td>\n",
       "      <td>NaN</td>\n",
       "      <td>Advanced Technology Solar Telescope (ATST) Con...</td>\n",
       "      <td>2010-01-01</td>\n",
       "      <td>2015-09-30</td>\n",
       "      <td>Association of Universities for Research in As...</td>\n",
       "      <td>Washington</td>\n",
       "      <td>20005-3929</td>\n",
       "      <td>2.024832e+09</td>\n",
       "      <td>1212 New York Avenue, N.W.,</td>\n",
       "      <td>United States</td>\n",
       "      <td>District of Columbia</td>\n",
       "      <td>DC</td>\n",
       "    </tr>\n",
       "    <tr>\n",
       "      <th>4</th>\n",
       "      <td>415302</td>\n",
       "      <td>Stephen</td>\n",
       "      <td>Keil</td>\n",
       "      <td>2010-01-15</td>\n",
       "      <td>2012-03-15</td>\n",
       "      <td>Advanced Technology Solar Telescope (ATST) Con...</td>\n",
       "      <td>2010-01-01</td>\n",
       "      <td>2015-09-30</td>\n",
       "      <td>Association of Universities for Research in As...</td>\n",
       "      <td>Washington</td>\n",
       "      <td>20005-3929</td>\n",
       "      <td>2.024832e+09</td>\n",
       "      <td>1212 New York Avenue, N.W.,</td>\n",
       "      <td>United States</td>\n",
       "      <td>District of Columbia</td>\n",
       "      <td>DC</td>\n",
       "    </tr>\n",
       "  </tbody>\n",
       "</table>\n",
       "</div>"
      ],
      "text/plain": [
       "   AwardId FirstName LastName   StartDate     EndDate  \\\n",
       "0   415302   Jeffrey     Kuhn  2010-01-15         NaN   \n",
       "1   415302    Robert   Rosner  2010-01-15         NaN   \n",
       "2   415302    Philip    Goode  2010-01-15         NaN   \n",
       "3   415302    Thomas  Rimmele  2012-03-15         NaN   \n",
       "4   415302   Stephen     Keil  2010-01-15  2012-03-15   \n",
       "\n",
       "                                          AwardTitle AwardEffectiveDate  \\\n",
       "0  Advanced Technology Solar Telescope (ATST) Con...         2010-01-01   \n",
       "1  Advanced Technology Solar Telescope (ATST) Con...         2010-01-01   \n",
       "2  Advanced Technology Solar Telescope (ATST) Con...         2010-01-01   \n",
       "3  Advanced Technology Solar Telescope (ATST) Con...         2010-01-01   \n",
       "4  Advanced Technology Solar Telescope (ATST) Con...         2010-01-01   \n",
       "\n",
       "  AwardExpirationDate                                               Name  \\\n",
       "0          2015-09-30  Association of Universities for Research in As...   \n",
       "1          2015-09-30  Association of Universities for Research in As...   \n",
       "2          2015-09-30  Association of Universities for Research in As...   \n",
       "3          2015-09-30  Association of Universities for Research in As...   \n",
       "4          2015-09-30  Association of Universities for Research in As...   \n",
       "\n",
       "     CityName     ZipCode   PhoneNumber                StreetAddress  \\\n",
       "0  Washington  20005-3929  2.024832e+09  1212 New York Avenue, N.W.,   \n",
       "1  Washington  20005-3929  2.024832e+09  1212 New York Avenue, N.W.,   \n",
       "2  Washington  20005-3929  2.024832e+09  1212 New York Avenue, N.W.,   \n",
       "3  Washington  20005-3929  2.024832e+09  1212 New York Avenue, N.W.,   \n",
       "4  Washington  20005-3929  2.024832e+09  1212 New York Avenue, N.W.,   \n",
       "\n",
       "     CountryName             StateName StateCode  \n",
       "0  United States  District of Columbia        DC  \n",
       "1  United States  District of Columbia        DC  \n",
       "2  United States  District of Columbia        DC  \n",
       "3  United States  District of Columbia        DC  \n",
       "4  United States  District of Columbia        DC  "
      ]
     },
     "execution_count": 3,
     "metadata": {},
     "output_type": "execute_result"
    }
   ],
   "source": [
    "df_nsf_awards.head()"
   ]
  },
  {
   "cell_type": "markdown",
   "metadata": {},
   "source": [
    "Our second dataset is a list of all employees in the UC System in 2011. "
   ]
  },
  {
   "cell_type": "code",
   "execution_count": 4,
   "metadata": {
    "collapsed": false
   },
   "outputs": [],
   "source": [
    "df_ucpay = pd.read_csv('./Datasets/ucpay2011.csv', sep='\\t')"
   ]
  },
  {
   "cell_type": "code",
   "execution_count": 5,
   "metadata": {
    "collapsed": false
   },
   "outputs": [
    {
     "data": {
      "text/html": [
       "<div>\n",
       "<table border=\"1\" class=\"dataframe\">\n",
       "  <thead>\n",
       "    <tr style=\"text-align: right;\">\n",
       "      <th></th>\n",
       "      <th>ID</th>\n",
       "      <th>year</th>\n",
       "      <th>campus</th>\n",
       "      <th>name</th>\n",
       "      <th>title</th>\n",
       "      <th>gross</th>\n",
       "      <th>base</th>\n",
       "      <th>overtime</th>\n",
       "      <th>extra</th>\n",
       "      <th>exclude</th>\n",
       "    </tr>\n",
       "  </thead>\n",
       "  <tbody>\n",
       "    <tr>\n",
       "      <th>0</th>\n",
       "      <td>1751971</td>\n",
       "      <td>2011</td>\n",
       "      <td>BERKELEY</td>\n",
       "      <td>***********</td>\n",
       "      <td>TUTOR - NON-GSHIP</td>\n",
       "      <td>0.49</td>\n",
       "      <td>0.0</td>\n",
       "      <td>0.0</td>\n",
       "      <td>0</td>\n",
       "      <td>0</td>\n",
       "    </tr>\n",
       "    <tr>\n",
       "      <th>1</th>\n",
       "      <td>1758984</td>\n",
       "      <td>2011</td>\n",
       "      <td>BERKELEY</td>\n",
       "      <td>***********</td>\n",
       "      <td>TUTOR - NON-GSHIP</td>\n",
       "      <td>0.49</td>\n",
       "      <td>0.0</td>\n",
       "      <td>0.0</td>\n",
       "      <td>0</td>\n",
       "      <td>0</td>\n",
       "    </tr>\n",
       "    <tr>\n",
       "      <th>2</th>\n",
       "      <td>1821585</td>\n",
       "      <td>2011</td>\n",
       "      <td>IRVINE</td>\n",
       "      <td>***********</td>\n",
       "      <td>TUTOR - NON-GSHIP</td>\n",
       "      <td>0.51</td>\n",
       "      <td>0.0</td>\n",
       "      <td>0.0</td>\n",
       "      <td>0</td>\n",
       "      <td>0</td>\n",
       "    </tr>\n",
       "    <tr>\n",
       "      <th>3</th>\n",
       "      <td>1966846</td>\n",
       "      <td>2011</td>\n",
       "      <td>SAN FRANCISCO</td>\n",
       "      <td>MACKEWICZ , CARL E</td>\n",
       "      <td>STAFF RESEARCH ASSOC III</td>\n",
       "      <td>0.62</td>\n",
       "      <td>0.0</td>\n",
       "      <td>0.0</td>\n",
       "      <td>0</td>\n",
       "      <td>0</td>\n",
       "    </tr>\n",
       "    <tr>\n",
       "      <th>4</th>\n",
       "      <td>1758947</td>\n",
       "      <td>2011</td>\n",
       "      <td>BERKELEY</td>\n",
       "      <td>***********</td>\n",
       "      <td>READER - NON-GSHIP</td>\n",
       "      <td>0.73</td>\n",
       "      <td>0.0</td>\n",
       "      <td>0.0</td>\n",
       "      <td>0</td>\n",
       "      <td>0</td>\n",
       "    </tr>\n",
       "  </tbody>\n",
       "</table>\n",
       "</div>"
      ],
      "text/plain": [
       "        ID  year         campus                name                     title  \\\n",
       "0  1751971  2011       BERKELEY         ***********         TUTOR - NON-GSHIP   \n",
       "1  1758984  2011       BERKELEY         ***********         TUTOR - NON-GSHIP   \n",
       "2  1821585  2011         IRVINE         ***********         TUTOR - NON-GSHIP   \n",
       "3  1966846  2011  SAN FRANCISCO  MACKEWICZ , CARL E  STAFF RESEARCH ASSOC III   \n",
       "4  1758947  2011       BERKELEY         ***********        READER - NON-GSHIP   \n",
       "\n",
       "   gross  base  overtime  extra  exclude  \n",
       "0   0.49   0.0       0.0      0        0  \n",
       "1   0.49   0.0       0.0      0        0  \n",
       "2   0.51   0.0       0.0      0        0  \n",
       "3   0.62   0.0       0.0      0        0  \n",
       "4   0.73   0.0       0.0      0        0  "
      ]
     },
     "execution_count": 5,
     "metadata": {},
     "output_type": "execute_result"
    }
   ],
   "source": [
    "df_ucpay.head()"
   ]
  },
  {
   "cell_type": "markdown",
   "metadata": {},
   "source": [
    "We can see there are some redacted names from the data. Let's do some exploratory analysis on the data "
   ]
  },
  {
   "cell_type": "markdown",
   "metadata": {},
   "source": [
    "# Data Exploration"
   ]
  },
  {
   "cell_type": "code",
   "execution_count": 6,
   "metadata": {
    "collapsed": false
   },
   "outputs": [
    {
     "data": {
      "text/plain": [
       "array([2011])"
      ]
     },
     "execution_count": 6,
     "metadata": {},
     "output_type": "execute_result"
    }
   ],
   "source": [
    "df_ucpay.year.unique()"
   ]
  },
  {
   "cell_type": "markdown",
   "metadata": {},
   "source": [
    "as we expected all employees are from 2011"
   ]
  },
  {
   "cell_type": "code",
   "execution_count": 7,
   "metadata": {
    "collapsed": false
   },
   "outputs": [
    {
     "data": {
      "text/plain": [
       "array(['BERKELEY', 'IRVINE', 'SAN FRANCISCO', 'LOS ANGELES', 'DANR',\n",
       "       'SANTA BARBARA', 'SANTA CRUZ', 'RIVERSIDE', 'DAVIS', 'MERCED',\n",
       "       'SAN DIEGO', 'UCOP'], dtype=object)"
      ]
     },
     "execution_count": 7,
     "metadata": {},
     "output_type": "execute_result"
    }
   ],
   "source": [
    "df_ucpay.campus.unique()"
   ]
  },
  {
   "cell_type": "code",
   "execution_count": 8,
   "metadata": {
    "collapsed": false
   },
   "outputs": [
    {
     "data": {
      "text/plain": [
       "<matplotlib.axes._subplots.AxesSubplot at 0x7f45b114e908>"
      ]
     },
     "execution_count": 8,
     "metadata": {},
     "output_type": "execute_result"
    },
    {
     "data": {
      "image/png": "[encoded data removed]",
      "text/plain": [
       "<matplotlib.figure.Figure at 0x7f45b1ee9128>"
      ]
     },
     "metadata": {},
     "output_type": "display_data"
    }
   ],
   "source": [
    "df_ucpay.groupby('campus').size().plot(kind='barh')"
   ]
  },
  {
   "cell_type": "code",
   "execution_count": 9,
   "metadata": {
    "collapsed": false
   },
   "outputs": [
    {
     "data": {
      "text/plain": [
       "array(['TUTOR - NON-GSHIP', 'STAFF RESEARCH ASSOC III',\n",
       "       'READER - NON-GSHIP', ..., 'ATHLETICS MANAGER 4',\n",
       "       'CHIEF EXEC OFFICER - MED CENTR', 'TREASURER OF THE REGENTS'], dtype=object)"
      ]
     },
     "execution_count": 9,
     "metadata": {},
     "output_type": "execute_result"
    }
   ],
   "source": [
    "df_ucpay.title.unique()"
   ]
  },
  {
   "cell_type": "code",
   "execution_count": 10,
   "metadata": {
    "collapsed": false
   },
   "outputs": [
    {
     "data": {
      "text/plain": [
       "2626"
      ]
     },
     "execution_count": 10,
     "metadata": {},
     "output_type": "execute_result"
    }
   ],
   "source": [
    "len(df_ucpay.title.unique())"
   ]
  },
  {
   "cell_type": "markdown",
   "metadata": {},
   "source": [
    "We can see that there are 2626 unique positions in the System. It is likely only a very small subset received grants from the NSF. Typically with the title of Professor, Postdoc, Research Professional etc. "
   ]
  },
  {
   "cell_type": "code",
   "execution_count": 11,
   "metadata": {
    "collapsed": false
   },
   "outputs": [
    {
     "data": {
      "text/plain": [
       "(259043, 10)"
      ]
     },
     "execution_count": 11,
     "metadata": {},
     "output_type": "execute_result"
    }
   ],
   "source": [
    "df_ucpay.shape"
   ]
  },
  {
   "cell_type": "markdown",
   "metadata": {},
   "source": [
    "remove all the redeacted names from the UC dataset "
   ]
  },
  {
   "cell_type": "code",
   "execution_count": 12,
   "metadata": {
    "collapsed": false
   },
   "outputs": [],
   "source": [
    "mask = df_ucpay.name != \"***********\""
   ]
  },
  {
   "cell_type": "code",
   "execution_count": 13,
   "metadata": {
    "collapsed": false
   },
   "outputs": [
    {
     "data": {
      "text/plain": [
       "(163429, 10)"
      ]
     },
     "execution_count": 13,
     "metadata": {},
     "output_type": "execute_result"
    }
   ],
   "source": [
    "df_ucpay[mask].shape"
   ]
  },
  {
   "cell_type": "code",
   "execution_count": 14,
   "metadata": {
    "collapsed": false
   },
   "outputs": [],
   "source": [
    "df_ucpay = df_ucpay[mask]"
   ]
  },
  {
   "cell_type": "code",
   "execution_count": 15,
   "metadata": {
    "collapsed": false
   },
   "outputs": [
    {
     "data": {
      "text/html": [
       "<div>\n",
       "<table border=\"1\" class=\"dataframe\">\n",
       "  <thead>\n",
       "    <tr style=\"text-align: right;\">\n",
       "      <th></th>\n",
       "      <th>ID</th>\n",
       "      <th>year</th>\n",
       "      <th>campus</th>\n",
       "      <th>name</th>\n",
       "      <th>title</th>\n",
       "      <th>gross</th>\n",
       "      <th>base</th>\n",
       "      <th>overtime</th>\n",
       "      <th>extra</th>\n",
       "      <th>exclude</th>\n",
       "    </tr>\n",
       "  </thead>\n",
       "  <tbody>\n",
       "    <tr>\n",
       "      <th>3</th>\n",
       "      <td>1966846</td>\n",
       "      <td>2011</td>\n",
       "      <td>SAN FRANCISCO</td>\n",
       "      <td>MACKEWICZ , CARL E</td>\n",
       "      <td>STAFF RESEARCH ASSOC III</td>\n",
       "      <td>0.62</td>\n",
       "      <td>0.00</td>\n",
       "      <td>0.0</td>\n",
       "      <td>0</td>\n",
       "      <td>0</td>\n",
       "    </tr>\n",
       "    <tr>\n",
       "      <th>6</th>\n",
       "      <td>1870390</td>\n",
       "      <td>2011</td>\n",
       "      <td>LOS ANGELES</td>\n",
       "      <td>ESCUJURI , ERIC JOSEPH</td>\n",
       "      <td>TECHNICIAN, SCENE, SR</td>\n",
       "      <td>1.14</td>\n",
       "      <td>0.00</td>\n",
       "      <td>0.0</td>\n",
       "      <td>0</td>\n",
       "      <td>0</td>\n",
       "    </tr>\n",
       "    <tr>\n",
       "      <th>7</th>\n",
       "      <td>1771936</td>\n",
       "      <td>2011</td>\n",
       "      <td>BERKELEY</td>\n",
       "      <td>JUNG , WOO YONG</td>\n",
       "      <td>POSTDOC-EMPLOYEE</td>\n",
       "      <td>1.28</td>\n",
       "      <td>1.28</td>\n",
       "      <td>0.0</td>\n",
       "      <td>0</td>\n",
       "      <td>0</td>\n",
       "    </tr>\n",
       "    <tr>\n",
       "      <th>8</th>\n",
       "      <td>1892122</td>\n",
       "      <td>2011</td>\n",
       "      <td>LOS ANGELES</td>\n",
       "      <td>SHAPIRO , JORDAN ISAAC</td>\n",
       "      <td>TECHNICIAN, SCENE</td>\n",
       "      <td>1.33</td>\n",
       "      <td>0.00</td>\n",
       "      <td>0.0</td>\n",
       "      <td>0</td>\n",
       "      <td>0</td>\n",
       "    </tr>\n",
       "    <tr>\n",
       "      <th>12</th>\n",
       "      <td>1988359</td>\n",
       "      <td>2011</td>\n",
       "      <td>SANTA BARBARA</td>\n",
       "      <td>CUTLER , CHARLES IAN</td>\n",
       "      <td>LABORATORY ASST I</td>\n",
       "      <td>1.55</td>\n",
       "      <td>0.00</td>\n",
       "      <td>0.0</td>\n",
       "      <td>0</td>\n",
       "      <td>0</td>\n",
       "    </tr>\n",
       "    <tr>\n",
       "      <th>15</th>\n",
       "      <td>1861869</td>\n",
       "      <td>2011</td>\n",
       "      <td>LOS ANGELES</td>\n",
       "      <td>ANDERSON , MARK CALVIN</td>\n",
       "      <td>TECHNICIAN, SCENE, SR</td>\n",
       "      <td>1.83</td>\n",
       "      <td>0.00</td>\n",
       "      <td>0.0</td>\n",
       "      <td>0</td>\n",
       "      <td>0</td>\n",
       "    </tr>\n",
       "    <tr>\n",
       "      <th>25</th>\n",
       "      <td>1887191</td>\n",
       "      <td>2011</td>\n",
       "      <td>LOS ANGELES</td>\n",
       "      <td>PATEL , DEV KAPIL</td>\n",
       "      <td>ASSISTANT IV</td>\n",
       "      <td>2.19</td>\n",
       "      <td>2.19</td>\n",
       "      <td>0.0</td>\n",
       "      <td>0</td>\n",
       "      <td>0</td>\n",
       "    </tr>\n",
       "    <tr>\n",
       "      <th>26</th>\n",
       "      <td>1875426</td>\n",
       "      <td>2011</td>\n",
       "      <td>LOS ANGELES</td>\n",
       "      <td>HILDER , JAMIE L</td>\n",
       "      <td>POSTDOC-EMPLOYEE</td>\n",
       "      <td>2.20</td>\n",
       "      <td>2.20</td>\n",
       "      <td>0.0</td>\n",
       "      <td>0</td>\n",
       "      <td>0</td>\n",
       "    </tr>\n",
       "    <tr>\n",
       "      <th>46</th>\n",
       "      <td>1977209</td>\n",
       "      <td>2011</td>\n",
       "      <td>SAN FRANCISCO</td>\n",
       "      <td>WU , YALEI</td>\n",
       "      <td>POSTDOC-EMPLOYEE</td>\n",
       "      <td>2.84</td>\n",
       "      <td>2.84</td>\n",
       "      <td>0.0</td>\n",
       "      <td>0</td>\n",
       "      <td>0</td>\n",
       "    </tr>\n",
       "    <tr>\n",
       "      <th>73</th>\n",
       "      <td>1895865</td>\n",
       "      <td>2011</td>\n",
       "      <td>LOS ANGELES</td>\n",
       "      <td>VALERIO , STEVEN GERARD,JR</td>\n",
       "      <td>TECHNICIAN, SCENE</td>\n",
       "      <td>4.24</td>\n",
       "      <td>0.00</td>\n",
       "      <td>0.0</td>\n",
       "      <td>0</td>\n",
       "      <td>0</td>\n",
       "    </tr>\n",
       "    <tr>\n",
       "      <th>74</th>\n",
       "      <td>1954603</td>\n",
       "      <td>2011</td>\n",
       "      <td>SAN FRANCISCO</td>\n",
       "      <td>BAILEY , GREGORY D</td>\n",
       "      <td>____ASSISTANT, HOSPITAL, II</td>\n",
       "      <td>4.24</td>\n",
       "      <td>0.00</td>\n",
       "      <td>0.0</td>\n",
       "      <td>0</td>\n",
       "      <td>0</td>\n",
       "    </tr>\n",
       "    <tr>\n",
       "      <th>81</th>\n",
       "      <td>1930896</td>\n",
       "      <td>2011</td>\n",
       "      <td>SAN DIEGO</td>\n",
       "      <td>CRESPO , NOE CUAUHTEMOC</td>\n",
       "      <td>POSTDOC-EMPLOYEE</td>\n",
       "      <td>4.49</td>\n",
       "      <td>4.49</td>\n",
       "      <td>0.0</td>\n",
       "      <td>0</td>\n",
       "      <td>0</td>\n",
       "    </tr>\n",
       "    <tr>\n",
       "      <th>83</th>\n",
       "      <td>1812940</td>\n",
       "      <td>2011</td>\n",
       "      <td>DAVIS</td>\n",
       "      <td>RENO , BROOKE</td>\n",
       "      <td>ASSISTANT III</td>\n",
       "      <td>4.63</td>\n",
       "      <td>4.63</td>\n",
       "      <td>0.0</td>\n",
       "      <td>0</td>\n",
       "      <td>0</td>\n",
       "    </tr>\n",
       "    <tr>\n",
       "      <th>91</th>\n",
       "      <td>1944991</td>\n",
       "      <td>2011</td>\n",
       "      <td>SAN DIEGO</td>\n",
       "      <td>RUBIO DE LA TOR , ELENA</td>\n",
       "      <td>POSTDOC-EMPLOYEE</td>\n",
       "      <td>5.19</td>\n",
       "      <td>5.19</td>\n",
       "      <td>0.0</td>\n",
       "      <td>0</td>\n",
       "      <td>0</td>\n",
       "    </tr>\n",
       "    <tr>\n",
       "      <th>94</th>\n",
       "      <td>1815338</td>\n",
       "      <td>2011</td>\n",
       "      <td>DAVIS</td>\n",
       "      <td>SMITH , KEN A</td>\n",
       "      <td>PROGRAMMER VII - SUPV</td>\n",
       "      <td>5.29</td>\n",
       "      <td>0.00</td>\n",
       "      <td>0.0</td>\n",
       "      <td>0</td>\n",
       "      <td>0</td>\n",
       "    </tr>\n",
       "  </tbody>\n",
       "</table>\n",
       "</div>"
      ],
      "text/plain": [
       "         ID  year         campus                        name  \\\n",
       "3   1966846  2011  SAN FRANCISCO          MACKEWICZ , CARL E   \n",
       "6   1870390  2011    LOS ANGELES      ESCUJURI , ERIC JOSEPH   \n",
       "7   1771936  2011       BERKELEY             JUNG , WOO YONG   \n",
       "8   1892122  2011    LOS ANGELES      SHAPIRO , JORDAN ISAAC   \n",
       "12  1988359  2011  SANTA BARBARA        CUTLER , CHARLES IAN   \n",
       "15  1861869  2011    LOS ANGELES      ANDERSON , MARK CALVIN   \n",
       "25  1887191  2011    LOS ANGELES           PATEL , DEV KAPIL   \n",
       "26  1875426  2011    LOS ANGELES            HILDER , JAMIE L   \n",
       "46  1977209  2011  SAN FRANCISCO                  WU , YALEI   \n",
       "73  1895865  2011    LOS ANGELES  VALERIO , STEVEN GERARD,JR   \n",
       "74  1954603  2011  SAN FRANCISCO          BAILEY , GREGORY D   \n",
       "81  1930896  2011      SAN DIEGO     CRESPO , NOE CUAUHTEMOC   \n",
       "83  1812940  2011          DAVIS               RENO , BROOKE   \n",
       "91  1944991  2011      SAN DIEGO     RUBIO DE LA TOR , ELENA   \n",
       "94  1815338  2011          DAVIS               SMITH , KEN A   \n",
       "\n",
       "                          title  gross  base  overtime  extra  exclude  \n",
       "3      STAFF RESEARCH ASSOC III   0.62  0.00       0.0      0        0  \n",
       "6         TECHNICIAN, SCENE, SR   1.14  0.00       0.0      0        0  \n",
       "7              POSTDOC-EMPLOYEE   1.28  1.28       0.0      0        0  \n",
       "8             TECHNICIAN, SCENE   1.33  0.00       0.0      0        0  \n",
       "12            LABORATORY ASST I   1.55  0.00       0.0      0        0  \n",
       "15        TECHNICIAN, SCENE, SR   1.83  0.00       0.0      0        0  \n",
       "25                 ASSISTANT IV   2.19  2.19       0.0      0        0  \n",
       "26             POSTDOC-EMPLOYEE   2.20  2.20       0.0      0        0  \n",
       "46             POSTDOC-EMPLOYEE   2.84  2.84       0.0      0        0  \n",
       "73            TECHNICIAN, SCENE   4.24  0.00       0.0      0        0  \n",
       "74  ____ASSISTANT, HOSPITAL, II   4.24  0.00       0.0      0        0  \n",
       "81             POSTDOC-EMPLOYEE   4.49  4.49       0.0      0        0  \n",
       "83                ASSISTANT III   4.63  4.63       0.0      0        0  \n",
       "91             POSTDOC-EMPLOYEE   5.19  5.19       0.0      0        0  \n",
       "94        PROGRAMMER VII - SUPV   5.29  0.00       0.0      0        0  "
      ]
     },
     "execution_count": 15,
     "metadata": {},
     "output_type": "execute_result"
    }
   ],
   "source": [
    "df_ucpay.head(15)"
   ]
  },
  {
   "cell_type": "markdown",
   "metadata": {
    "collapsed": false
   },
   "source": [
    "we filtered out all the redacted names and can see the name field in the uc data is given in *lastname*, *firstname* *middle* format "
   ]
  },
  {
   "cell_type": "code",
   "execution_count": 16,
   "metadata": {
    "collapsed": false
   },
   "outputs": [],
   "source": [
    "sel_cols = ['ID','campus', 'name', 'title']\n",
    "df_ucpay = df_ucpay[sel_cols]"
   ]
  },
  {
   "cell_type": "code",
   "execution_count": 17,
   "metadata": {
    "collapsed": false
   },
   "outputs": [
    {
     "data": {
      "text/html": [
       "<div>\n",
       "<table border=\"1\" class=\"dataframe\">\n",
       "  <thead>\n",
       "    <tr style=\"text-align: right;\">\n",
       "      <th></th>\n",
       "      <th>ID</th>\n",
       "      <th>campus</th>\n",
       "      <th>name</th>\n",
       "      <th>title</th>\n",
       "    </tr>\n",
       "  </thead>\n",
       "  <tbody>\n",
       "    <tr>\n",
       "      <th>3</th>\n",
       "      <td>1966846</td>\n",
       "      <td>SAN FRANCISCO</td>\n",
       "      <td>MACKEWICZ , CARL E</td>\n",
       "      <td>STAFF RESEARCH ASSOC III</td>\n",
       "    </tr>\n",
       "    <tr>\n",
       "      <th>6</th>\n",
       "      <td>1870390</td>\n",
       "      <td>LOS ANGELES</td>\n",
       "      <td>ESCUJURI , ERIC JOSEPH</td>\n",
       "      <td>TECHNICIAN, SCENE, SR</td>\n",
       "    </tr>\n",
       "    <tr>\n",
       "      <th>7</th>\n",
       "      <td>1771936</td>\n",
       "      <td>BERKELEY</td>\n",
       "      <td>JUNG , WOO YONG</td>\n",
       "      <td>POSTDOC-EMPLOYEE</td>\n",
       "    </tr>\n",
       "    <tr>\n",
       "      <th>8</th>\n",
       "      <td>1892122</td>\n",
       "      <td>LOS ANGELES</td>\n",
       "      <td>SHAPIRO , JORDAN ISAAC</td>\n",
       "      <td>TECHNICIAN, SCENE</td>\n",
       "    </tr>\n",
       "    <tr>\n",
       "      <th>12</th>\n",
       "      <td>1988359</td>\n",
       "      <td>SANTA BARBARA</td>\n",
       "      <td>CUTLER , CHARLES IAN</td>\n",
       "      <td>LABORATORY ASST I</td>\n",
       "    </tr>\n",
       "  </tbody>\n",
       "</table>\n",
       "</div>"
      ],
      "text/plain": [
       "         ID         campus                    name                     title\n",
       "3   1966846  SAN FRANCISCO      MACKEWICZ , CARL E  STAFF RESEARCH ASSOC III\n",
       "6   1870390    LOS ANGELES  ESCUJURI , ERIC JOSEPH     TECHNICIAN, SCENE, SR\n",
       "7   1771936       BERKELEY         JUNG , WOO YONG          POSTDOC-EMPLOYEE\n",
       "8   1892122    LOS ANGELES  SHAPIRO , JORDAN ISAAC         TECHNICIAN, SCENE\n",
       "12  1988359  SANTA BARBARA    CUTLER , CHARLES IAN         LABORATORY ASST I"
      ]
     },
     "execution_count": 17,
     "metadata": {},
     "output_type": "execute_result"
    }
   ],
   "source": [
    "df_ucpay.head()"
   ]
  },
  {
   "cell_type": "markdown",
   "metadata": {},
   "source": [
    "filter the nsf data to only display awards from CA"
   ]
  },
  {
   "cell_type": "code",
   "execution_count": 18,
   "metadata": {
    "collapsed": false
   },
   "outputs": [],
   "source": [
    "state_mask = df_nsf_awards['StateCode'] == 'CA'\n",
    "df_nsf_awards = df_nsf_awards[state_mask]"
   ]
  },
  {
   "cell_type": "code",
   "execution_count": 19,
   "metadata": {
    "collapsed": false
   },
   "outputs": [
    {
     "data": {
      "text/html": [
       "<div>\n",
       "<table border=\"1\" class=\"dataframe\">\n",
       "  <thead>\n",
       "    <tr style=\"text-align: right;\">\n",
       "      <th></th>\n",
       "      <th>AwardId</th>\n",
       "      <th>FirstName</th>\n",
       "      <th>LastName</th>\n",
       "      <th>StartDate</th>\n",
       "      <th>EndDate</th>\n",
       "      <th>AwardTitle</th>\n",
       "      <th>AwardEffectiveDate</th>\n",
       "      <th>AwardExpirationDate</th>\n",
       "      <th>Name</th>\n",
       "      <th>CityName</th>\n",
       "      <th>ZipCode</th>\n",
       "      <th>PhoneNumber</th>\n",
       "      <th>StreetAddress</th>\n",
       "      <th>CountryName</th>\n",
       "      <th>StateName</th>\n",
       "      <th>StateCode</th>\n",
       "    </tr>\n",
       "  </thead>\n",
       "  <tbody>\n",
       "    <tr>\n",
       "      <th>17</th>\n",
       "      <td>805989</td>\n",
       "      <td>Albert</td>\n",
       "      <td>Schwarz</td>\n",
       "      <td>2010-08-26</td>\n",
       "      <td>NaN</td>\n",
       "      <td>Application of methods of arithmetic geometry ...</td>\n",
       "      <td>2010-09-01</td>\n",
       "      <td>2014-08-31</td>\n",
       "      <td>University of California-Davis</td>\n",
       "      <td>Davis</td>\n",
       "      <td>95618-0000</td>\n",
       "      <td>5.307548e+09</td>\n",
       "      <td>OR/Sponsored Programs</td>\n",
       "      <td>United States</td>\n",
       "      <td>California</td>\n",
       "      <td>CA</td>\n",
       "    </tr>\n",
       "    <tr>\n",
       "      <th>40</th>\n",
       "      <td>820047</td>\n",
       "      <td>Frans</td>\n",
       "      <td>Tax</td>\n",
       "      <td>2011-03-28</td>\n",
       "      <td>NaN</td>\n",
       "      <td>Arabidopsis 2010: Global Analysis of Translati...</td>\n",
       "      <td>2009-03-01</td>\n",
       "      <td>2013-02-28</td>\n",
       "      <td>University of California-Riverside</td>\n",
       "      <td>RIVERSIDE</td>\n",
       "      <td>92521-1000</td>\n",
       "      <td>9.518276e+09</td>\n",
       "      <td>Office of Research</td>\n",
       "      <td>United States</td>\n",
       "      <td>California</td>\n",
       "      <td>CA</td>\n",
       "    </tr>\n",
       "    <tr>\n",
       "      <th>49</th>\n",
       "      <td>825254</td>\n",
       "      <td>Paul</td>\n",
       "      <td>Davis</td>\n",
       "      <td>2012-01-27</td>\n",
       "      <td>NaN</td>\n",
       "      <td>Collaborative Research: A 3D Seismic Study of ...</td>\n",
       "      <td>2010-01-01</td>\n",
       "      <td>2013-09-30</td>\n",
       "      <td>University of California-Los Angeles</td>\n",
       "      <td>LOS ANGELES</td>\n",
       "      <td>90095-2000</td>\n",
       "      <td>3.107940e+09</td>\n",
       "      <td>11000 Kinross Avenue, Suite 211</td>\n",
       "      <td>United States</td>\n",
       "      <td>California</td>\n",
       "      <td>CA</td>\n",
       "    </tr>\n",
       "    <tr>\n",
       "      <th>53</th>\n",
       "      <td>830228</td>\n",
       "      <td>Nicholas</td>\n",
       "      <td>Melosh</td>\n",
       "      <td>2011-08-06</td>\n",
       "      <td>NaN</td>\n",
       "      <td>NSEC: CENTER FOR PROBING THE NANOSCALE</td>\n",
       "      <td>2009-09-01</td>\n",
       "      <td>2014-08-31</td>\n",
       "      <td>Stanford University</td>\n",
       "      <td>Palo Alto</td>\n",
       "      <td>94304-1212</td>\n",
       "      <td>6.507232e+09</td>\n",
       "      <td>3160 Porter Drive</td>\n",
       "      <td>United States</td>\n",
       "      <td>California</td>\n",
       "      <td>CA</td>\n",
       "    </tr>\n",
       "    <tr>\n",
       "      <th>58</th>\n",
       "      <td>831132</td>\n",
       "      <td>Joseph</td>\n",
       "      <td>Pasquale</td>\n",
       "      <td>2010-04-12</td>\n",
       "      <td>NaN</td>\n",
       "      <td>Collaborative Research; CT-M: Computer Systems...</td>\n",
       "      <td>2009-03-01</td>\n",
       "      <td>2012-12-31</td>\n",
       "      <td>University of California-San Diego</td>\n",
       "      <td>La Jolla</td>\n",
       "      <td>92093-0934</td>\n",
       "      <td>8.585345e+09</td>\n",
       "      <td>Office of Contract &amp; Grant Admin</td>\n",
       "      <td>United States</td>\n",
       "      <td>California</td>\n",
       "      <td>CA</td>\n",
       "    </tr>\n",
       "  </tbody>\n",
       "</table>\n",
       "</div>"
      ],
      "text/plain": [
       "    AwardId FirstName  LastName   StartDate EndDate  \\\n",
       "17   805989    Albert   Schwarz  2010-08-26     NaN   \n",
       "40   820047     Frans       Tax  2011-03-28     NaN   \n",
       "49   825254      Paul     Davis  2012-01-27     NaN   \n",
       "53   830228  Nicholas    Melosh  2011-08-06     NaN   \n",
       "58   831132    Joseph  Pasquale  2010-04-12     NaN   \n",
       "\n",
       "                                           AwardTitle AwardEffectiveDate  \\\n",
       "17  Application of methods of arithmetic geometry ...         2010-09-01   \n",
       "40  Arabidopsis 2010: Global Analysis of Translati...         2009-03-01   \n",
       "49  Collaborative Research: A 3D Seismic Study of ...         2010-01-01   \n",
       "53             NSEC: CENTER FOR PROBING THE NANOSCALE         2009-09-01   \n",
       "58  Collaborative Research; CT-M: Computer Systems...         2009-03-01   \n",
       "\n",
       "   AwardExpirationDate                                  Name     CityName  \\\n",
       "17          2014-08-31        University of California-Davis        Davis   \n",
       "40          2013-02-28    University of California-Riverside    RIVERSIDE   \n",
       "49          2013-09-30  University of California-Los Angeles  LOS ANGELES   \n",
       "53          2014-08-31                   Stanford University    Palo Alto   \n",
       "58          2012-12-31    University of California-San Diego     La Jolla   \n",
       "\n",
       "       ZipCode   PhoneNumber                     StreetAddress    CountryName  \\\n",
       "17  95618-0000  5.307548e+09             OR/Sponsored Programs  United States   \n",
       "40  92521-1000  9.518276e+09                Office of Research  United States   \n",
       "49  90095-2000  3.107940e+09   11000 Kinross Avenue, Suite 211  United States   \n",
       "53  94304-1212  6.507232e+09                 3160 Porter Drive  United States   \n",
       "58  92093-0934  8.585345e+09  Office of Contract & Grant Admin  United States   \n",
       "\n",
       "     StateName StateCode  \n",
       "17  California        CA  \n",
       "40  California        CA  \n",
       "49  California        CA  \n",
       "53  California        CA  \n",
       "58  California        CA  "
      ]
     },
     "execution_count": 19,
     "metadata": {},
     "output_type": "execute_result"
    }
   ],
   "source": [
    "df_nsf_awards.head()"
   ]
  },
  {
   "cell_type": "markdown",
   "metadata": {},
   "source": [
    "# What kind of the records do we want to match\n",
    "\n",
    "Given the name of an award match their record with the UC database to get their position and employee id. "
   ]
  },
  {
   "cell_type": "markdown",
   "metadata": {},
   "source": [
    "# Preprocess: clean Up Names and separate to first middle and last name"
   ]
  },
  {
   "cell_type": "code",
   "execution_count": 20,
   "metadata": {
    "collapsed": false
   },
   "outputs": [],
   "source": [
    "names = df_ucpay.name.values"
   ]
  },
  {
   "cell_type": "code",
   "execution_count": 21,
   "metadata": {
    "collapsed": true
   },
   "outputs": [],
   "source": [
    "def split_names(name):\n",
    "    \"\"\"\n",
    "    Splits names fields into first, middle and last names\n",
    "    and return lower case values. \n",
    "    \n",
    "    Parameters\n",
    "    -----------\n",
    "    name: str\n",
    "        e.g., SHAPIRO, JORDAN ISAAC\n",
    "    \n",
    "    \n",
    "    Returns\n",
    "    -------\n",
    "    (first, middle, last): str\n",
    "        e.g., mark calvin anderson\n",
    "    \"\"\"\n",
    "    \n",
    "    #split on the comma do get the last name\n",
    "    name=name.lower()\n",
    "    ls_name = name.split(',')\n",
    "\n",
    "    last_name = ls_name[0]\n",
    "    first_middle_name = ls_name[1]\n",
    "    \n",
    "    #split by space to get the first and middle name\n",
    "    ls_first_middle_name = first_middle_name.split()\n",
    "    if len(ls_first_middle_name) > 1:\n",
    "        first_name = ls_first_middle_name[0]\n",
    "        middle_name = ls_first_middle_name[1]\n",
    "    else: \n",
    "        first_name = ls_first_middle_name[0]\n",
    "        middle_name = ''\n",
    "    return unicode(first_name.strip()), unicode(middle_name.strip()), unicode(last_name.strip())"
   ]
  },
  {
   "cell_type": "code",
   "execution_count": 22,
   "metadata": {
    "collapsed": false
   },
   "outputs": [],
   "source": [
    "ls_cleaned_names = [split_names(name) for name in names]"
   ]
  },
  {
   "cell_type": "code",
   "execution_count": 23,
   "metadata": {
    "collapsed": false
   },
   "outputs": [],
   "source": [
    "ls_first, ls_middle, ls_last = zip(*ls_cleaned_names)"
   ]
  },
  {
   "cell_type": "code",
   "execution_count": 24,
   "metadata": {
    "collapsed": false
   },
   "outputs": [],
   "source": [
    "df_ucpay['first'] = ls_first\n",
    "df_ucpay['middle'] = ls_middle\n",
    "df_ucpay['last'] = ls_last"
   ]
  },
  {
   "cell_type": "code",
   "execution_count": 25,
   "metadata": {
    "collapsed": false
   },
   "outputs": [
    {
     "data": {
      "text/html": [
       "<div>\n",
       "<table border=\"1\" class=\"dataframe\">\n",
       "  <thead>\n",
       "    <tr style=\"text-align: right;\">\n",
       "      <th></th>\n",
       "      <th>ID</th>\n",
       "      <th>campus</th>\n",
       "      <th>name</th>\n",
       "      <th>title</th>\n",
       "      <th>first</th>\n",
       "      <th>middle</th>\n",
       "      <th>last</th>\n",
       "    </tr>\n",
       "  </thead>\n",
       "  <tbody>\n",
       "    <tr>\n",
       "      <th>3</th>\n",
       "      <td>1966846</td>\n",
       "      <td>SAN FRANCISCO</td>\n",
       "      <td>MACKEWICZ , CARL E</td>\n",
       "      <td>STAFF RESEARCH ASSOC III</td>\n",
       "      <td>carl</td>\n",
       "      <td>e</td>\n",
       "      <td>mackewicz</td>\n",
       "    </tr>\n",
       "    <tr>\n",
       "      <th>6</th>\n",
       "      <td>1870390</td>\n",
       "      <td>LOS ANGELES</td>\n",
       "      <td>ESCUJURI , ERIC JOSEPH</td>\n",
       "      <td>TECHNICIAN, SCENE, SR</td>\n",
       "      <td>eric</td>\n",
       "      <td>joseph</td>\n",
       "      <td>escujuri</td>\n",
       "    </tr>\n",
       "    <tr>\n",
       "      <th>7</th>\n",
       "      <td>1771936</td>\n",
       "      <td>BERKELEY</td>\n",
       "      <td>JUNG , WOO YONG</td>\n",
       "      <td>POSTDOC-EMPLOYEE</td>\n",
       "      <td>woo</td>\n",
       "      <td>yong</td>\n",
       "      <td>jung</td>\n",
       "    </tr>\n",
       "    <tr>\n",
       "      <th>8</th>\n",
       "      <td>1892122</td>\n",
       "      <td>LOS ANGELES</td>\n",
       "      <td>SHAPIRO , JORDAN ISAAC</td>\n",
       "      <td>TECHNICIAN, SCENE</td>\n",
       "      <td>jordan</td>\n",
       "      <td>isaac</td>\n",
       "      <td>shapiro</td>\n",
       "    </tr>\n",
       "    <tr>\n",
       "      <th>12</th>\n",
       "      <td>1988359</td>\n",
       "      <td>SANTA BARBARA</td>\n",
       "      <td>CUTLER , CHARLES IAN</td>\n",
       "      <td>LABORATORY ASST I</td>\n",
       "      <td>charles</td>\n",
       "      <td>ian</td>\n",
       "      <td>cutler</td>\n",
       "    </tr>\n",
       "  </tbody>\n",
       "</table>\n",
       "</div>"
      ],
      "text/plain": [
       "         ID         campus                    name                     title  \\\n",
       "3   1966846  SAN FRANCISCO      MACKEWICZ , CARL E  STAFF RESEARCH ASSOC III   \n",
       "6   1870390    LOS ANGELES  ESCUJURI , ERIC JOSEPH     TECHNICIAN, SCENE, SR   \n",
       "7   1771936       BERKELEY         JUNG , WOO YONG          POSTDOC-EMPLOYEE   \n",
       "8   1892122    LOS ANGELES  SHAPIRO , JORDAN ISAAC         TECHNICIAN, SCENE   \n",
       "12  1988359  SANTA BARBARA    CUTLER , CHARLES IAN         LABORATORY ASST I   \n",
       "\n",
       "      first  middle       last  \n",
       "3      carl       e  mackewicz  \n",
       "6      eric  joseph   escujuri  \n",
       "7       woo    yong       jung  \n",
       "8    jordan   isaac    shapiro  \n",
       "12  charles     ian     cutler  "
      ]
     },
     "execution_count": 25,
     "metadata": {},
     "output_type": "execute_result"
    }
   ],
   "source": [
    "df_ucpay.head()"
   ]
  },
  {
   "cell_type": "markdown",
   "metadata": {},
   "source": [
    "we know have cleaned fields for the first, middle and last names. The NSF data only has first and last name fields so we only need the first and last name fields. "
   ]
  },
  {
   "cell_type": "code",
   "execution_count": 26,
   "metadata": {
    "collapsed": false
   },
   "outputs": [],
   "source": [
    "df_nsf_awards.dropna(subset=['FirstName','LastName'], inplace=True)"
   ]
  },
  {
   "cell_type": "markdown",
   "metadata": {},
   "source": [
    "drop any rows that do not have entries in the FirstName and LastName field"
   ]
  },
  {
   "cell_type": "code",
   "execution_count": 27,
   "metadata": {
    "collapsed": false
   },
   "outputs": [],
   "source": [
    "df_nsf_awards['first'] = [unicode(name.lower()) for name in df_nsf_awards['FirstName'].values]\n",
    "df_nsf_awards['last'] = [unicode(name.lower()) for name in df_nsf_awards['LastName'].values]"
   ]
  },
  {
   "cell_type": "markdown",
   "metadata": {},
   "source": [
    ">**Note**: In python2 we have to explicitly tell Python we want a string to be encoding in unicode. In Python3 all strings \n",
    ">are by default unicode. \n"
   ]
  },
  {
   "cell_type": "code",
   "execution_count": 28,
   "metadata": {
    "collapsed": false,
    "scrolled": true
   },
   "outputs": [
    {
     "data": {
      "text/html": [
       "<div>\n",
       "<table border=\"1\" class=\"dataframe\">\n",
       "  <thead>\n",
       "    <tr style=\"text-align: right;\">\n",
       "      <th></th>\n",
       "      <th>AwardId</th>\n",
       "      <th>FirstName</th>\n",
       "      <th>LastName</th>\n",
       "      <th>StartDate</th>\n",
       "      <th>EndDate</th>\n",
       "      <th>AwardTitle</th>\n",
       "      <th>AwardEffectiveDate</th>\n",
       "      <th>AwardExpirationDate</th>\n",
       "      <th>Name</th>\n",
       "      <th>CityName</th>\n",
       "      <th>ZipCode</th>\n",
       "      <th>PhoneNumber</th>\n",
       "      <th>StreetAddress</th>\n",
       "      <th>CountryName</th>\n",
       "      <th>StateName</th>\n",
       "      <th>StateCode</th>\n",
       "      <th>first</th>\n",
       "      <th>last</th>\n",
       "    </tr>\n",
       "  </thead>\n",
       "  <tbody>\n",
       "    <tr>\n",
       "      <th>17</th>\n",
       "      <td>805989</td>\n",
       "      <td>Albert</td>\n",
       "      <td>Schwarz</td>\n",
       "      <td>2010-08-26</td>\n",
       "      <td>NaN</td>\n",
       "      <td>Application of methods of arithmetic geometry ...</td>\n",
       "      <td>2010-09-01</td>\n",
       "      <td>2014-08-31</td>\n",
       "      <td>University of California-Davis</td>\n",
       "      <td>Davis</td>\n",
       "      <td>95618-0000</td>\n",
       "      <td>5.307548e+09</td>\n",
       "      <td>OR/Sponsored Programs</td>\n",
       "      <td>United States</td>\n",
       "      <td>California</td>\n",
       "      <td>CA</td>\n",
       "      <td>albert</td>\n",
       "      <td>schwarz</td>\n",
       "    </tr>\n",
       "    <tr>\n",
       "      <th>40</th>\n",
       "      <td>820047</td>\n",
       "      <td>Frans</td>\n",
       "      <td>Tax</td>\n",
       "      <td>2011-03-28</td>\n",
       "      <td>NaN</td>\n",
       "      <td>Arabidopsis 2010: Global Analysis of Translati...</td>\n",
       "      <td>2009-03-01</td>\n",
       "      <td>2013-02-28</td>\n",
       "      <td>University of California-Riverside</td>\n",
       "      <td>RIVERSIDE</td>\n",
       "      <td>92521-1000</td>\n",
       "      <td>9.518276e+09</td>\n",
       "      <td>Office of Research</td>\n",
       "      <td>United States</td>\n",
       "      <td>California</td>\n",
       "      <td>CA</td>\n",
       "      <td>frans</td>\n",
       "      <td>tax</td>\n",
       "    </tr>\n",
       "    <tr>\n",
       "      <th>49</th>\n",
       "      <td>825254</td>\n",
       "      <td>Paul</td>\n",
       "      <td>Davis</td>\n",
       "      <td>2012-01-27</td>\n",
       "      <td>NaN</td>\n",
       "      <td>Collaborative Research: A 3D Seismic Study of ...</td>\n",
       "      <td>2010-01-01</td>\n",
       "      <td>2013-09-30</td>\n",
       "      <td>University of California-Los Angeles</td>\n",
       "      <td>LOS ANGELES</td>\n",
       "      <td>90095-2000</td>\n",
       "      <td>3.107940e+09</td>\n",
       "      <td>11000 Kinross Avenue, Suite 211</td>\n",
       "      <td>United States</td>\n",
       "      <td>California</td>\n",
       "      <td>CA</td>\n",
       "      <td>paul</td>\n",
       "      <td>davis</td>\n",
       "    </tr>\n",
       "    <tr>\n",
       "      <th>53</th>\n",
       "      <td>830228</td>\n",
       "      <td>Nicholas</td>\n",
       "      <td>Melosh</td>\n",
       "      <td>2011-08-06</td>\n",
       "      <td>NaN</td>\n",
       "      <td>NSEC: CENTER FOR PROBING THE NANOSCALE</td>\n",
       "      <td>2009-09-01</td>\n",
       "      <td>2014-08-31</td>\n",
       "      <td>Stanford University</td>\n",
       "      <td>Palo Alto</td>\n",
       "      <td>94304-1212</td>\n",
       "      <td>6.507232e+09</td>\n",
       "      <td>3160 Porter Drive</td>\n",
       "      <td>United States</td>\n",
       "      <td>California</td>\n",
       "      <td>CA</td>\n",
       "      <td>nicholas</td>\n",
       "      <td>melosh</td>\n",
       "    </tr>\n",
       "    <tr>\n",
       "      <th>58</th>\n",
       "      <td>831132</td>\n",
       "      <td>Joseph</td>\n",
       "      <td>Pasquale</td>\n",
       "      <td>2010-04-12</td>\n",
       "      <td>NaN</td>\n",
       "      <td>Collaborative Research; CT-M: Computer Systems...</td>\n",
       "      <td>2009-03-01</td>\n",
       "      <td>2012-12-31</td>\n",
       "      <td>University of California-San Diego</td>\n",
       "      <td>La Jolla</td>\n",
       "      <td>92093-0934</td>\n",
       "      <td>8.585345e+09</td>\n",
       "      <td>Office of Contract &amp; Grant Admin</td>\n",
       "      <td>United States</td>\n",
       "      <td>California</td>\n",
       "      <td>CA</td>\n",
       "      <td>joseph</td>\n",
       "      <td>pasquale</td>\n",
       "    </tr>\n",
       "  </tbody>\n",
       "</table>\n",
       "</div>"
      ],
      "text/plain": [
       "    AwardId FirstName  LastName   StartDate EndDate  \\\n",
       "17   805989    Albert   Schwarz  2010-08-26     NaN   \n",
       "40   820047     Frans       Tax  2011-03-28     NaN   \n",
       "49   825254      Paul     Davis  2012-01-27     NaN   \n",
       "53   830228  Nicholas    Melosh  2011-08-06     NaN   \n",
       "58   831132    Joseph  Pasquale  2010-04-12     NaN   \n",
       "\n",
       "                                           AwardTitle AwardEffectiveDate  \\\n",
       "17  Application of methods of arithmetic geometry ...         2010-09-01   \n",
       "40  Arabidopsis 2010: Global Analysis of Translati...         2009-03-01   \n",
       "49  Collaborative Research: A 3D Seismic Study of ...         2010-01-01   \n",
       "53             NSEC: CENTER FOR PROBING THE NANOSCALE         2009-09-01   \n",
       "58  Collaborative Research; CT-M: Computer Systems...         2009-03-01   \n",
       "\n",
       "   AwardExpirationDate                                  Name     CityName  \\\n",
       "17          2014-08-31        University of California-Davis        Davis   \n",
       "40          2013-02-28    University of California-Riverside    RIVERSIDE   \n",
       "49          2013-09-30  University of California-Los Angeles  LOS ANGELES   \n",
       "53          2014-08-31                   Stanford University    Palo Alto   \n",
       "58          2012-12-31    University of California-San Diego     La Jolla   \n",
       "\n",
       "       ZipCode   PhoneNumber                     StreetAddress    CountryName  \\\n",
       "17  95618-0000  5.307548e+09             OR/Sponsored Programs  United States   \n",
       "40  92521-1000  9.518276e+09                Office of Research  United States   \n",
       "49  90095-2000  3.107940e+09   11000 Kinross Avenue, Suite 211  United States   \n",
       "53  94304-1212  6.507232e+09                 3160 Porter Drive  United States   \n",
       "58  92093-0934  8.585345e+09  Office of Contract & Grant Admin  United States   \n",
       "\n",
       "     StateName StateCode     first      last  \n",
       "17  California        CA    albert   schwarz  \n",
       "40  California        CA     frans       tax  \n",
       "49  California        CA      paul     davis  \n",
       "53  California        CA  nicholas    melosh  \n",
       "58  California        CA    joseph  pasquale  "
      ]
     },
     "execution_count": 28,
     "metadata": {},
     "output_type": "execute_result"
    }
   ],
   "source": [
    "df_nsf_awards.head()"
   ]
  },
  {
   "cell_type": "markdown",
   "metadata": {},
   "source": [
    "# String Comparators\n",
    "\n",
    "Now that we have cleaned data lets explore how to match the string fields. For continuous fields, comparision is simple, the absolute difference between the values can be taken as a measure of the closeness. For string comparisions it is a little bit more complex. One metric is the *edit distance*, the minimum number of edit distances to transform one string to another. In the case of how many insertions, deletions and substitutions to transform one string to antoher that is known as the *Levenshtein distance*. If you add transposing with adjacent letters that is known as the *Levenshtein-Damerau distance*. The *Jaro-Winkler* distance is a fast-to-compute distance metric that returns a normalized score between zero and one. "
   ]
  },
  {
   "cell_type": "code",
   "execution_count": 29,
   "metadata": {
    "collapsed": false
   },
   "outputs": [],
   "source": [
    "class StringComparators():\n",
    "    \"\"\"\n",
    "    Test various string comparators \n",
    "    \"\"\"\n",
    "\n",
    "    def test_levenshtein_distance():\n",
    "        assert jellyfish.levenshtein_distance('John', 'John') == 0\n",
    "        assert jellyfish.levenshtein_distance('Jon', \"John\") == 2\n",
    "        assert jellyfish.levenshtein_distance('Joseph', 'Joesph') == 1\n",
    "        \n",
    "    def test_damerau_levenshtein():\n",
    "        assert jellyfish.damerau_levenshtein_distance('Joseph', 'Joesph') == 1\n",
    "\n",
    "    def test_jaro_winklear():\n",
    "        assert (np.isclose(jellyfish.jaro_winkler('Joseph', 'Joesph'), 0.955555))\n",
    "        assert (np.isclose(jellyfish.jaro_winkler('Chris', 'Christoper'), 0.9))"
   ]
  },
  {
   "cell_type": "markdown",
   "metadata": {},
   "source": [
    "# Lets get the to 10 matching first names in the nsf database according to the jaro-winker score "
   ]
  },
  {
   "cell_type": "code",
   "execution_count": 30,
   "metadata": {
    "collapsed": false
   },
   "outputs": [],
   "source": [
    "uniq_nsf_firstname = set( df_nsf_awards['first'].values ) #grab unique names from the nsf"
   ]
  },
  {
   "cell_type": "code",
   "execution_count": 31,
   "metadata": {
    "collapsed": false
   },
   "outputs": [],
   "source": [
    "uc_names = df_ucpay['first'].values #grab the uc_names"
   ]
  },
  {
   "cell_type": "code",
   "execution_count": 32,
   "metadata": {
    "collapsed": true
   },
   "outputs": [],
   "source": [
    "# Comparison of records"
   ]
  },
  {
   "cell_type": "code",
   "execution_count": 33,
   "metadata": {
    "collapsed": true
   },
   "outputs": [],
   "source": [
    "testname = unicode(uc_names[0])"
   ]
  },
  {
   "cell_type": "code",
   "execution_count": 34,
   "metadata": {
    "collapsed": true
   },
   "outputs": [],
   "source": [
    "def get_matching_first_name(testname, NUM_NAMES=10):\n",
    "    \"\"\"\n",
    "    get top 10 first names that match\n",
    "    \"\"\"\n",
    "    dict_name_pair = {}\n",
    "    for name in uc_names:\n",
    "        name = unicode(name)\n",
    "        dist = jellyfish.jaro_winkler(testname,name)\n",
    "        dict_name_pair[name] = dist\n",
    "\n",
    "    orddict_dict_name_pair = OrderedDict(\n",
    "                                sorted(dict_name_pair.items(), key=lambda x: x[1]))\n",
    "\n",
    "    ls_sorted_name = list(orddict_dict_name_pair.keys())\n",
    "\n",
    "\n",
    "    return ls_sorted_name[-NUM_NAMES:][::-1]"
   ]
  },
  {
   "cell_type": "code",
   "execution_count": 35,
   "metadata": {
    "collapsed": false
   },
   "outputs": [
    {
     "name": "stdout",
     "output_type": "stream",
     "text": [
      "carl ['carl', 'carlo', 'carly', 'carli', 'carla', 'caryl', 'carol', 'carley', 'carlyn', 'carlen']\n"
     ]
    }
   ],
   "source": [
    "print(testname,get_matching_first_name(testname))"
   ]
  },
  {
   "cell_type": "code",
   "execution_count": 36,
   "metadata": {
    "collapsed": false
   },
   "outputs": [
    {
     "name": "stdout",
     "output_type": "stream",
     "text": [
      "carl ['carl', 'carlo', 'carly', 'carli', 'carla', 'caryl', 'carol', 'carley', 'carlyn', 'carlen']\n",
      "eric ['eric', 'erica', 'erich', 'erice', 'erick', 'erric', 'edric', 'enric', 'ericia', 'ericha']\n",
      "woo ['woo', 'wood', 'wook', 'woon', 'wo', 'woori', 'woody', 'elwood', 'witoon', 'woodrow']\n",
      "jordan ['jordan', 'jordana', 'jordane', 'jourdan', 'jordin', 'jordaniel', 'jordon', 'jodean', 'joan', 'joraine']\n",
      "charles ['charles', 'charless', 'charlie', 'charese', 'charley', 'charlee', 'charleston', 'charleen', 'charlane', 'charlene']\n",
      "mark ['mark', 'marka', 'marko', 'marek', 'markee', 'markim', 'markle', 'markos', 'markus', 'marike']\n",
      "dev ['dev', 'devi', 'deva', 'de', 'devan', 'devon', 'devin', 'devie', 'devyn', 'devra']\n",
      "jamie ['jamie', 'jamiel', 'jammie', 'jami', 'jaymie', 'jaime', 'jamaine', 'amie', 'jazmine', 'jasmine']\n",
      "yalei ['yalei', 'yale', 'yanlei', 'yali', 'yaneli', 'yawei', 'yafei', 'yanli', 'yael', 'maylei']\n",
      "steven ['steven', 'steaven', 'steve', 'stevon', 'stevan', 'stevie', 'sten', 'steven-huy', 'seveen', 'seve']\n",
      "gregory ['gregory', 'gregor', 'grigory', 'gregoria', 'gregorio', 'gregoire', 'gregorij', 'greg', 'grigoriy', 'grzegorz']\n",
      "noe ['noe', 'noel', 'noree', 'noeun', 'nomer', 'noemi', 'noemy', 'noreen', 'nohelm', 'noveen']\n",
      "brooke ['brooke', 'brookie', 'brook', 'brooks', 'booker', 'brooklyn', 'brooklynn', 'brock', 'burke', 'broc']\n",
      "elena ['elena', 'elenna', 'elen', 'ellena', 'elna', 'selena', 'yelena', 'jelena', 'helena', 'celena']\n",
      "ken ['ken', 'keon', 'kien', 'keni', 'kent', 'koen', 'keun', 'keen', 'kean', 'ke']\n",
      "kevin ['kevin', 'kelvin', 'evin', 'kevis', 'keven', 'kevan', 'r.kevin', 'kevin-paul', 'keqin', 'kexin']\n",
      "victoria ['victoria', 'victorina', 'victori', 'vicktoria', 'victoriana', 'victoriano', 'victor', 'victorio', 'victorya', 'viktoria']\n",
      "sarah ['sarah', 'sarahy', 'sarath', 'sara', 'sarahann', 'safirah', 'saurabh', 'samrrah', 'sarai', 'saran']\n",
      "kaitlin ['kaitlin', 'kailin', 'kaitlyn', 'kaili', 'katalin', 'kaetlin', 'katelin', 'katlin', 'caitlin', 'kaiqin']\n",
      "sabrina ['sabrina', 'sabrin', 'sabina', 'sarina', 'sabra', 'sabin', 'sarbani', 'sarna', 'sharina', 'sebrina']\n",
      "michele ['michele', 'michaele', 'michelle', 'michel', 'micheline', \"miche-le'\", 'michell', 'michael', 'micheal', 'michela']\n",
      "fernando ['fernando', 'fernand', 'fernanda', 'fernan', 'hernando', 'fern', 'fenno', 'ferdinando', 'ferdnand', 'ferda']\n",
      "michelle ['michelle', 'michell', 'michele', 'mischelle', 'mi-chelle', 'mitchelle', 'michellene', 'michaele', 'michel', 'marichelle']\n",
      "adi ['adi', 'hadi', 'adil', 'fadi', 'ardi', 'gadi', 'adib', 'adia', 'sadik', 'vadim']\n",
      "cindy ['cindy', 'cindi', 'cinda', 'cindra', 'cindee', 'cindy-heung', 'cyndy', 'candy', 'cendy', 'zindy']\n"
     ]
    }
   ],
   "source": [
    "for nm in uc_names[:25]:\n",
    "    testname = unicode(nm)\n",
    "    print(testname, get_matching_first_name(testname))"
   ]
  },
  {
   "cell_type": "markdown",
   "metadata": {
    "collapsed": true
   },
   "source": [
    "# Create A Rule Based System for record matching. \n",
    "\n",
    "Let's try to merge data with the following rules. \n",
    "\n",
    "1. The first name Jaro-Winkler score has to be greater than 0.90\n",
    "2. The last name Jaro-Winkler score has to be greater then 0.90\n",
    "\n",
    "This rule essentially means that the names have to match with very minor typos. \n"
   ]
  },
  {
   "cell_type": "code",
   "execution_count": 37,
   "metadata": {
    "collapsed": false
   },
   "outputs": [],
   "source": [
    "dict_nsf_awards = df_nsf_awards[:10].to_dict(orient='index')"
   ]
  },
  {
   "cell_type": "code",
   "execution_count": 49,
   "metadata": {
    "collapsed": false
   },
   "outputs": [],
   "source": [
    "def create_rule_mask(nsf_first_name, \n",
    "                     nsf_last_name,\n",
    "                     df_ucpay,\n",
    "                     first_name_thresh=0.90,\n",
    "                     last_name_thresh=0.90):\n",
    "    \"\"\"\n",
    "    Returns a boolean array of records to match based on a\n",
    "    fixed threshold. \n",
    "    \n",
    "    Parameters\n",
    "    ----------\n",
    "    (nsf_first_name, nsf_last_name): str\n",
    "        first and last name in the NSF dataset\n",
    "        \n",
    "    df_ucpay: DataFrame\n",
    "        DataFrame of the UC directory\n",
    "        \n",
    "    (first_name_thresh,last_name_thresh): int\n",
    "        \n",
    "        \n",
    "    Returns\n",
    "    -------\n",
    "    jaro_mask: ls[bool]\n",
    "        boolean list of records to match\n",
    "    \"\"\"\n",
    "    compare_first = lambda x: jellyfish.jaro_winkler(nsf_first_name,x)\n",
    "    compare_last = lambda x: jellyfish.jaro_winkler(nsf_last_name,x)\n",
    "\n",
    "    jaro_first = df_ucpay['first'].map(compare_first) \n",
    "    jaro_last = df_ucpay['last'].map(compare_last)\n",
    "\n",
    "    jaro_mask = (jaro_first > first_name_thresh) & (jaro_last > last_name_thresh)\n",
    "    \n",
    "    return jaro_mask\n",
    "    "
   ]
  },
  {
   "cell_type": "code",
   "execution_count": 52,
   "metadata": {
    "collapsed": false
   },
   "outputs": [],
   "source": [
    "def match_records(dict_nsf_awards, df_ucpay, f_create_rule_mask):\n",
    "    \"\"\"\n",
    "    match records from the nsf and uc datasets based on the fields 'first' and 'last' name\n",
    "    \n",
    "    Parameters\n",
    "    ---------\n",
    "    dict_nsf_awards: dict\n",
    "        dictionary of nsf awards\n",
    "    df_ucpay: DataFrame\n",
    "        DataFrame of UC employees\n",
    "    create_rule_mask: function\n",
    "        Function that takes a first name, last name and df_ucpay\n",
    "        and returns a Boolean array of whether or not to match \n",
    "        records\n",
    "    \n",
    "    Returns\n",
    "    -------\n",
    "    df_linked_data: DataFrame\n",
    "    \"\"\"\n",
    "    \n",
    "    df_linked_data = pd.DataFrame()\n",
    "    for key in dict_nsf_awards.keys():\n",
    "        dict_test_row = dict_nsf_awards[key]\n",
    "    \n",
    "        nsf_first_name = dict_test_row['first']\n",
    "        nsf_last_name = dict_test_row['last']\n",
    "\n",
    "        jaro_mask = f_create_rule_mask(nsf_first_name, nsf_last_name, df_ucpay)\n",
    "    \n",
    "        df_matches = df_ucpay[jaro_mask]\n",
    "        if len(df_matches) == 0:\n",
    "            print('No Match: {} {}'.format(nsf_first_name,nsf_last_name))\n",
    "        for row in df_matches.iterrows():\n",
    "            dict_test_row['ID'] = row[1]['ID']\n",
    "            dict_test_row['campus'] = row[1]['campus']\n",
    "            dict_test_row['name'] = row[1]['name']\n",
    "            dict_test_row['title'] = row[1]['title']\n",
    "            df_linked_data = df_linked_data.append(dict_test_row, ignore_index=True)\n",
    "            \n",
    "    return df_linked_data"
   ]
  },
  {
   "cell_type": "code",
   "execution_count": 54,
   "metadata": {
    "collapsed": false
   },
   "outputs": [
    {
     "name": "stdout",
     "output_type": "stream",
     "text": [
      "No Match: nicholas melosh\n",
      "No Match: frans tax\n",
      "No Match: craig heinselman\n",
      "No Match: mary mccready\n"
     ]
    }
   ],
   "source": [
    "df_linked_data = match_records(dict_nsf_awards, df_ucpay, create_rule_mask )"
   ]
  },
  {
   "cell_type": "code",
   "execution_count": 55,
   "metadata": {
    "collapsed": false
   },
   "outputs": [
    {
     "data": {
      "text/html": [
       "<div>\n",
       "<table border=\"1\" class=\"dataframe\">\n",
       "  <thead>\n",
       "    <tr style=\"text-align: right;\">\n",
       "      <th></th>\n",
       "      <th>AwardId</th>\n",
       "      <th>CityName</th>\n",
       "      <th>FirstName</th>\n",
       "      <th>ID</th>\n",
       "      <th>LastName</th>\n",
       "      <th>Name</th>\n",
       "      <th>campus</th>\n",
       "      <th>title</th>\n",
       "      <th>first</th>\n",
       "      <th>last</th>\n",
       "    </tr>\n",
       "  </thead>\n",
       "  <tbody>\n",
       "    <tr>\n",
       "      <th>0</th>\n",
       "      <td>805989.0</td>\n",
       "      <td>Davis</td>\n",
       "      <td>Albert</td>\n",
       "      <td>1814365.0</td>\n",
       "      <td>Schwarz</td>\n",
       "      <td>University of California-Davis</td>\n",
       "      <td>DAVIS</td>\n",
       "      <td>PROFESSOR - ACADEMIC YEAR</td>\n",
       "      <td>albert</td>\n",
       "      <td>schwarz</td>\n",
       "    </tr>\n",
       "    <tr>\n",
       "      <th>1</th>\n",
       "      <td>838258.0</td>\n",
       "      <td>BERKELEY</td>\n",
       "      <td>Leo</td>\n",
       "      <td>1765982.0</td>\n",
       "      <td>Blitz</td>\n",
       "      <td>University of California-Berkeley</td>\n",
       "      <td>BERKELEY</td>\n",
       "      <td>PROFESSOR - ACADEMIC YEAR</td>\n",
       "      <td>leo</td>\n",
       "      <td>blitz</td>\n",
       "    </tr>\n",
       "    <tr>\n",
       "      <th>2</th>\n",
       "      <td>825254.0</td>\n",
       "      <td>LOS ANGELES</td>\n",
       "      <td>Paul</td>\n",
       "      <td>1832316.0</td>\n",
       "      <td>Davis</td>\n",
       "      <td>University of California-Los Angeles</td>\n",
       "      <td>IRVINE</td>\n",
       "      <td>ANALYST, ADMINISTRATIVE, ASST</td>\n",
       "      <td>paul</td>\n",
       "      <td>davis</td>\n",
       "    </tr>\n",
       "    <tr>\n",
       "      <th>3</th>\n",
       "      <td>825254.0</td>\n",
       "      <td>LOS ANGELES</td>\n",
       "      <td>Paul</td>\n",
       "      <td>1832352.0</td>\n",
       "      <td>Davis</td>\n",
       "      <td>University of California-Los Angeles</td>\n",
       "      <td>IRVINE</td>\n",
       "      <td>HOSPITAL UNIT SERV COORD II</td>\n",
       "      <td>paul</td>\n",
       "      <td>davis</td>\n",
       "    </tr>\n",
       "    <tr>\n",
       "      <th>4</th>\n",
       "      <td>825254.0</td>\n",
       "      <td>LOS ANGELES</td>\n",
       "      <td>Paul</td>\n",
       "      <td>1800777.0</td>\n",
       "      <td>Davis</td>\n",
       "      <td>University of California-Los Angeles</td>\n",
       "      <td>DAVIS</td>\n",
       "      <td>RESEARCH _____ - FISCAL YEAR</td>\n",
       "      <td>paul</td>\n",
       "      <td>davis</td>\n",
       "    </tr>\n",
       "    <tr>\n",
       "      <th>5</th>\n",
       "      <td>825254.0</td>\n",
       "      <td>LOS ANGELES</td>\n",
       "      <td>Paul</td>\n",
       "      <td>1868502.0</td>\n",
       "      <td>Davis</td>\n",
       "      <td>University of California-Los Angeles</td>\n",
       "      <td>LOS ANGELES</td>\n",
       "      <td>PROGRAMMER/ANALYST IV - SUPERV</td>\n",
       "      <td>paul</td>\n",
       "      <td>davis</td>\n",
       "    </tr>\n",
       "    <tr>\n",
       "      <th>6</th>\n",
       "      <td>825254.0</td>\n",
       "      <td>LOS ANGELES</td>\n",
       "      <td>Paul</td>\n",
       "      <td>1868593.0</td>\n",
       "      <td>Davis</td>\n",
       "      <td>University of California-Los Angeles</td>\n",
       "      <td>LOS ANGELES</td>\n",
       "      <td>PROFESSOR - ACADEMIC YEAR</td>\n",
       "      <td>paul</td>\n",
       "      <td>davis</td>\n",
       "    </tr>\n",
       "    <tr>\n",
       "      <th>7</th>\n",
       "      <td>833340.0</td>\n",
       "      <td>SANTA CRUZ</td>\n",
       "      <td>Gretchen</td>\n",
       "      <td>1999814.0</td>\n",
       "      <td>Andreasen</td>\n",
       "      <td>University of California-Santa Cruz</td>\n",
       "      <td>SANTA CRUZ</td>\n",
       "      <td>ADMIN/COORD/OFFICER(FUNC AREA)</td>\n",
       "      <td>gretchen</td>\n",
       "      <td>andreasen</td>\n",
       "    </tr>\n",
       "    <tr>\n",
       "      <th>8</th>\n",
       "      <td>831132.0</td>\n",
       "      <td>La Jolla</td>\n",
       "      <td>Joseph</td>\n",
       "      <td>1887173.0</td>\n",
       "      <td>Pasquale</td>\n",
       "      <td>University of California-San Diego</td>\n",
       "      <td>LOS ANGELES</td>\n",
       "      <td>REPRESENTATIVE, ACCESS, PRIN</td>\n",
       "      <td>joseph</td>\n",
       "      <td>pasquale</td>\n",
       "    </tr>\n",
       "    <tr>\n",
       "      <th>9</th>\n",
       "      <td>831132.0</td>\n",
       "      <td>La Jolla</td>\n",
       "      <td>Joseph</td>\n",
       "      <td>1942864.0</td>\n",
       "      <td>Pasquale</td>\n",
       "      <td>University of California-San Diego</td>\n",
       "      <td>SAN DIEGO</td>\n",
       "      <td>PROFESSOR-ACAD YR-BUS/ECON/ENG</td>\n",
       "      <td>joseph</td>\n",
       "      <td>pasquale</td>\n",
       "    </tr>\n",
       "    <tr>\n",
       "      <th>10</th>\n",
       "      <td>832819.0</td>\n",
       "      <td>BERKELEY</td>\n",
       "      <td>Ronald</td>\n",
       "      <td>1768965.0</td>\n",
       "      <td>Fearing</td>\n",
       "      <td>University of California-Berkeley</td>\n",
       "      <td>BERKELEY</td>\n",
       "      <td>PROFESSOR-ACAD YR-BUS/ECON/ENG</td>\n",
       "      <td>ronald</td>\n",
       "      <td>fearing</td>\n",
       "    </tr>\n",
       "  </tbody>\n",
       "</table>\n",
       "</div>"
      ],
      "text/plain": [
       "     AwardId     CityName FirstName         ID   LastName  \\\n",
       "0   805989.0        Davis    Albert  1814365.0    Schwarz   \n",
       "1   838258.0     BERKELEY       Leo  1765982.0      Blitz   \n",
       "2   825254.0  LOS ANGELES      Paul  1832316.0      Davis   \n",
       "3   825254.0  LOS ANGELES      Paul  1832352.0      Davis   \n",
       "4   825254.0  LOS ANGELES      Paul  1800777.0      Davis   \n",
       "5   825254.0  LOS ANGELES      Paul  1868502.0      Davis   \n",
       "6   825254.0  LOS ANGELES      Paul  1868593.0      Davis   \n",
       "7   833340.0   SANTA CRUZ  Gretchen  1999814.0  Andreasen   \n",
       "8   831132.0     La Jolla    Joseph  1887173.0   Pasquale   \n",
       "9   831132.0     La Jolla    Joseph  1942864.0   Pasquale   \n",
       "10  832819.0     BERKELEY    Ronald  1768965.0    Fearing   \n",
       "\n",
       "                                    Name       campus  \\\n",
       "0         University of California-Davis        DAVIS   \n",
       "1      University of California-Berkeley     BERKELEY   \n",
       "2   University of California-Los Angeles       IRVINE   \n",
       "3   University of California-Los Angeles       IRVINE   \n",
       "4   University of California-Los Angeles        DAVIS   \n",
       "5   University of California-Los Angeles  LOS ANGELES   \n",
       "6   University of California-Los Angeles  LOS ANGELES   \n",
       "7    University of California-Santa Cruz   SANTA CRUZ   \n",
       "8     University of California-San Diego  LOS ANGELES   \n",
       "9     University of California-San Diego    SAN DIEGO   \n",
       "10     University of California-Berkeley     BERKELEY   \n",
       "\n",
       "                             title     first       last  \n",
       "0        PROFESSOR - ACADEMIC YEAR    albert    schwarz  \n",
       "1        PROFESSOR - ACADEMIC YEAR       leo      blitz  \n",
       "2    ANALYST, ADMINISTRATIVE, ASST      paul      davis  \n",
       "3      HOSPITAL UNIT SERV COORD II      paul      davis  \n",
       "4     RESEARCH _____ - FISCAL YEAR      paul      davis  \n",
       "5   PROGRAMMER/ANALYST IV - SUPERV      paul      davis  \n",
       "6        PROFESSOR - ACADEMIC YEAR      paul      davis  \n",
       "7   ADMIN/COORD/OFFICER(FUNC AREA)  gretchen  andreasen  \n",
       "8     REPRESENTATIVE, ACCESS, PRIN    joseph   pasquale  \n",
       "9   PROFESSOR-ACAD YR-BUS/ECON/ENG    joseph   pasquale  \n",
       "10  PROFESSOR-ACAD YR-BUS/ECON/ENG    ronald    fearing  "
      ]
     },
     "execution_count": 55,
     "metadata": {},
     "output_type": "execute_result"
    }
   ],
   "source": [
    "sel_col = ['AwardId', 'CityName', 'FirstName', 'ID', 'LastName', 'Name', 'campus', 'title', 'first', 'last']\n",
    "df_linked_data[sel_col]"
   ]
  },
  {
   "cell_type": "markdown",
   "metadata": {},
   "source": [
    "As we can see 4 records in the NSF database had no matches in teh UC database. Also if we examine the output of the record linkage more closely we see we have a few false postives, Paul Davies, Joseph Pasquale."
   ]
  },
  {
   "cell_type": "markdown",
   "metadata": {},
   "source": [
    "There are several shortcomings to this approach:\n",
    "    \n",
    "1. There is no threshold that can be adjusted for the proper tolerance of false postives and false negatives\n",
    "2. As you apply more and more rules is can become unclear what the combination of rules has on the final linkage\n",
    "3. Rules also often reflect the creators domain knowledge."
   ]
  },
  {
   "cell_type": "markdown",
   "metadata": {},
   "source": [
    "# Probabilisic Record Linkage \n",
    "\n",
    "The Fellegi-Sunter probablistic record linkage model compares selected similiar fields in two records and calculated a weighted probablity of being similar.  The algorithm is the following: two fields are first compared using a metric, in this case, the jaro-winkler algorithm. The jaro-winkler distance is then obtained from the jaro-winkler algorithm is then binned into a category -- exact match, close match and no match. The category the comparison falls into is then weighed with two distributions. The probability that the records are a match and the probablity that the record are a non-match are then calculated for each field. The log probablity of being a match or a non-match are then combined for each field respectively. The final score is then the probablity of being a match minus the probablity of being a non-match. If the final score is greater then a thershold, then the records are considered to match.  "
   ]
  },
  {
   "cell_type": "code",
   "execution_count": 40,
   "metadata": {
    "collapsed": false
   },
   "outputs": [],
   "source": [
    "class FellegiSunter():\n",
    "    \"\"\"\n",
    "    class to implement Fellegi Sunter model\n",
    "    \"\"\"\n",
    "    \n",
    "    m_weights = {'first_name': (0.01,0.14,0.85),\n",
    "                 'last_name': (0.01,0.09,0.90)}\n",
    "    \n",
    "    u_weights = {'first_name': (0.88,0.10,0.02),\n",
    "                 'last_name': (0.91,0.08,0.01)}\n",
    "    \n",
    "    \n",
    "    def fuzzy_match(self,name1,name2):\n",
    "        \"\"\"\n",
    "        Compares two strings using jaro-winker and\n",
    "        outputs and returns one of three match\n",
    "        levels.\n",
    "        \n",
    "        * exact match is a jaro-winkler score >= 0.92\n",
    "        * close match is a jaro-winkler score > 0.85\n",
    "        * no match is a jaro-winkler score < 0.85\n",
    "        \n",
    "        Parameters\n",
    "        ----------\n",
    "        (name1, name2): str\n",
    "            two text strings to output\n",
    "            \n",
    "        Returns\n",
    "        -------\n",
    "        match_level: int\n",
    "            one of three match levels\n",
    "            2 - exact match \n",
    "            1 - close match\n",
    "            0 - not a match\n",
    "        \"\"\"\n",
    "        score = jellyfish.jaro_winkler(name1,name2)\n",
    "        if score >= 0.92:\n",
    "            return 2\n",
    "        elif score > 0.85:\n",
    "            return 1\n",
    "        else:\n",
    "            return 0\n",
    "        \n",
    "    def match_score(self,record1,record2):\n",
    "        \"\"\"\n",
    "        computes the match score between a pair\n",
    "        of records\n",
    "        \n",
    "        Parameters\n",
    "        ----------\n",
    "        (record1, record2): tuple(str)\n",
    "            tuples of records to be compared\n",
    "            \n",
    "        Returns\n",
    "        -------\n",
    "        match_score: int\n",
    "        \n",
    "        Raises\n",
    "        ------\n",
    "        Exception\n",
    "            tuples need to be the same size \n",
    "        \"\"\"\n",
    "        if not(len(record1) == len(record2)):\n",
    "            raise Exception('records need to be same size')\n",
    "        \n",
    "        scores = [self.fuzzy_match(rec1,rec2) for rec1, rec2 in zip(record1, record2)]\n",
    "        \n",
    "        first_name_score, last_name_score = scores\n",
    "        \n",
    "        #grab the m and u weights\n",
    "        \n",
    "        first_name_m_weight = self.m_weights['first_name'][first_name_score]\n",
    "        first_name_u_weight = self.u_weights['last_name'][first_name_score]\n",
    "        \n",
    "        last_name_m_weight = self.m_weights['first_name'][last_name_score]\n",
    "        last_name_u_weight = self.u_weights['last_name'][last_name_score]\n",
    "        \n",
    "        log_prob_match = math.log(first_name_m_weight) + math.log(last_name_m_weight)\n",
    "        log_prob_umatch = math.log(first_name_u_weight) + math.log(last_name_u_weight)\n",
    "        \n",
    "        match_score = log_prob_match - log_prob_umatch\n",
    "        \n",
    "        return match_score\n",
    "        \n",
    "    def link_record(self, record1, record2, threshold=0.5):\n",
    "        \"\"\"\n",
    "        Returns True if records should be linked\n",
    "        False otherwise.\n",
    "        \n",
    "        Parameters\n",
    "        ----------\n",
    "        (record1, record2): tuple(str)\n",
    "            tuples of records to be compared. must\n",
    "            be the same length\n",
    "        threshold: int\n",
    "            threshold for linking or not\n",
    "        \n",
    "        Returns\n",
    "        -------\n",
    "        link: bool\n",
    "            bool on whether to link two records or not\n",
    "        \"\"\"\n",
    "        \n",
    "        match_score = self.match_score(record1,record2)\n",
    "        if match_score > threshold:\n",
    "            return True\n",
    "        else:\n",
    "            return False\n",
    "        "
   ]
  },
  {
   "cell_type": "code",
   "execution_count": 41,
   "metadata": {
    "collapsed": true
   },
   "outputs": [],
   "source": [
    "fs = FellegiSunter()"
   ]
  },
  {
   "cell_type": "code",
   "execution_count": 42,
   "metadata": {
    "collapsed": false
   },
   "outputs": [
    {
     "name": "stdout",
     "output_type": "stream",
     "text": [
      "True\n"
     ]
    }
   ],
   "source": [
    "print( fs.link_record(('Avishek','Kumar'), ('Avishek','Kumar')) )"
   ]
  },
  {
   "cell_type": "code",
   "execution_count": 43,
   "metadata": {
    "collapsed": false
   },
   "outputs": [
    {
     "name": "stdout",
     "output_type": "stream",
     "text": [
      "False\n"
     ]
    }
   ],
   "source": [
    "print( fs.link_record( ('Avishek','Kumar'), ('Anup','Kumar') ) )"
   ]
  },
  {
   "cell_type": "code",
   "execution_count": 44,
   "metadata": {
    "collapsed": false
   },
   "outputs": [
    {
     "name": "stdout",
     "output_type": "stream",
     "text": [
      "jonathon jonthon 2\n",
      "john mark 0\n",
      "fred frederick 1\n"
     ]
    }
   ],
   "source": [
    "#let's take this new function for a spin\n",
    "print('jonathon', 'jonthon',fs.fuzzy_match('jonathon','jonthon') )\n",
    "print('john', 'mark',fs.fuzzy_match('john','mark') )\n",
    "print('fred', 'frederick', fs.fuzzy_match('fred', 'frederick'))"
   ]
  },
  {
   "cell_type": "code",
   "execution_count": 45,
   "metadata": {
    "collapsed": true
   },
   "outputs": [],
   "source": [
    "def create_jaro_mask(nsf_first_name, nsf_last_name, df_ucpay):\n",
    "    \"\"\"\n",
    "    create a boolean array for whether to link records based on\n",
    "    the jaro-winkler distance\n",
    "    \n",
    "    Parameters\n",
    "    ----------\n",
    "    (nsf_first_name, nsf_last_name): str\n",
    "        first and last name in the NSF dataset\n",
    "        \n",
    "    df_ucpay: DataFrame\n",
    "        DataFrame of the UC directory\n",
    "        \n",
    "    Returns\n",
    "    -------\n",
    "    jaro_mask: ls[bool]\n",
    "        boolean list of records to match\n",
    "    \"\"\"\n",
    "    record = (nsf_first_name, nsf_last_name)\n",
    "    uc_records = df_ucpay[['first','last']].values\n",
    "    \n",
    "    jaro_mask = [fs.link_record(record, uc_record) for uc_record in uc_records]\n",
    "    \n",
    "    return jaro_mask\n",
    "    \n",
    "    "
   ]
  },
  {
   "cell_type": "code",
   "execution_count": 56,
   "metadata": {
    "collapsed": false
   },
   "outputs": [
    {
     "name": "stdout",
     "output_type": "stream",
     "text": [
      "No Match: nicholas melosh\n",
      "No Match: frans tax\n",
      "No Match: craig heinselman\n"
     ]
    }
   ],
   "source": [
    "df_linked_data = match_records(dict_nsf_awards, df_ucpay, create_jaro_mask )"
   ]
  },
  {
   "cell_type": "code",
   "execution_count": 57,
   "metadata": {
    "collapsed": false
   },
   "outputs": [
    {
     "data": {
      "text/html": [
       "<div>\n",
       "<table border=\"1\" class=\"dataframe\">\n",
       "  <thead>\n",
       "    <tr style=\"text-align: right;\">\n",
       "      <th></th>\n",
       "      <th>AwardId</th>\n",
       "      <th>CityName</th>\n",
       "      <th>FirstName</th>\n",
       "      <th>ID</th>\n",
       "      <th>LastName</th>\n",
       "      <th>Name</th>\n",
       "      <th>campus</th>\n",
       "      <th>title</th>\n",
       "      <th>first</th>\n",
       "      <th>last</th>\n",
       "    </tr>\n",
       "  </thead>\n",
       "  <tbody>\n",
       "    <tr>\n",
       "      <th>0</th>\n",
       "      <td>805989.0</td>\n",
       "      <td>Davis</td>\n",
       "      <td>Albert</td>\n",
       "      <td>1814365.0</td>\n",
       "      <td>Schwarz</td>\n",
       "      <td>University of California-Davis</td>\n",
       "      <td>DAVIS</td>\n",
       "      <td>PROFESSOR - ACADEMIC YEAR</td>\n",
       "      <td>albert</td>\n",
       "      <td>schwarz</td>\n",
       "    </tr>\n",
       "    <tr>\n",
       "      <th>1</th>\n",
       "      <td>838258.0</td>\n",
       "      <td>BERKELEY</td>\n",
       "      <td>Leo</td>\n",
       "      <td>1765982.0</td>\n",
       "      <td>Blitz</td>\n",
       "      <td>University of California-Berkeley</td>\n",
       "      <td>BERKELEY</td>\n",
       "      <td>PROFESSOR - ACADEMIC YEAR</td>\n",
       "      <td>leo</td>\n",
       "      <td>blitz</td>\n",
       "    </tr>\n",
       "    <tr>\n",
       "      <th>2</th>\n",
       "      <td>825254.0</td>\n",
       "      <td>LOS ANGELES</td>\n",
       "      <td>Paul</td>\n",
       "      <td>1832316.0</td>\n",
       "      <td>Davis</td>\n",
       "      <td>University of California-Los Angeles</td>\n",
       "      <td>IRVINE</td>\n",
       "      <td>ANALYST, ADMINISTRATIVE, ASST</td>\n",
       "      <td>paul</td>\n",
       "      <td>davis</td>\n",
       "    </tr>\n",
       "    <tr>\n",
       "      <th>3</th>\n",
       "      <td>825254.0</td>\n",
       "      <td>LOS ANGELES</td>\n",
       "      <td>Paul</td>\n",
       "      <td>1832352.0</td>\n",
       "      <td>Davis</td>\n",
       "      <td>University of California-Los Angeles</td>\n",
       "      <td>IRVINE</td>\n",
       "      <td>HOSPITAL UNIT SERV COORD II</td>\n",
       "      <td>paul</td>\n",
       "      <td>davis</td>\n",
       "    </tr>\n",
       "    <tr>\n",
       "      <th>4</th>\n",
       "      <td>825254.0</td>\n",
       "      <td>LOS ANGELES</td>\n",
       "      <td>Paul</td>\n",
       "      <td>1800777.0</td>\n",
       "      <td>Davis</td>\n",
       "      <td>University of California-Los Angeles</td>\n",
       "      <td>DAVIS</td>\n",
       "      <td>RESEARCH _____ - FISCAL YEAR</td>\n",
       "      <td>paul</td>\n",
       "      <td>davis</td>\n",
       "    </tr>\n",
       "    <tr>\n",
       "      <th>5</th>\n",
       "      <td>825254.0</td>\n",
       "      <td>LOS ANGELES</td>\n",
       "      <td>Paul</td>\n",
       "      <td>1868502.0</td>\n",
       "      <td>Davis</td>\n",
       "      <td>University of California-Los Angeles</td>\n",
       "      <td>LOS ANGELES</td>\n",
       "      <td>PROGRAMMER/ANALYST IV - SUPERV</td>\n",
       "      <td>paul</td>\n",
       "      <td>davis</td>\n",
       "    </tr>\n",
       "    <tr>\n",
       "      <th>6</th>\n",
       "      <td>825254.0</td>\n",
       "      <td>LOS ANGELES</td>\n",
       "      <td>Paul</td>\n",
       "      <td>1868593.0</td>\n",
       "      <td>Davis</td>\n",
       "      <td>University of California-Los Angeles</td>\n",
       "      <td>LOS ANGELES</td>\n",
       "      <td>PROFESSOR - ACADEMIC YEAR</td>\n",
       "      <td>paul</td>\n",
       "      <td>davis</td>\n",
       "    </tr>\n",
       "    <tr>\n",
       "      <th>7</th>\n",
       "      <td>833340.0</td>\n",
       "      <td>SANTA CRUZ</td>\n",
       "      <td>Gretchen</td>\n",
       "      <td>1999814.0</td>\n",
       "      <td>Andreasen</td>\n",
       "      <td>University of California-Santa Cruz</td>\n",
       "      <td>SANTA CRUZ</td>\n",
       "      <td>ADMIN/COORD/OFFICER(FUNC AREA)</td>\n",
       "      <td>gretchen</td>\n",
       "      <td>andreasen</td>\n",
       "    </tr>\n",
       "    <tr>\n",
       "      <th>8</th>\n",
       "      <td>831132.0</td>\n",
       "      <td>La Jolla</td>\n",
       "      <td>Joseph</td>\n",
       "      <td>1887173.0</td>\n",
       "      <td>Pasquale</td>\n",
       "      <td>University of California-San Diego</td>\n",
       "      <td>LOS ANGELES</td>\n",
       "      <td>REPRESENTATIVE, ACCESS, PRIN</td>\n",
       "      <td>joseph</td>\n",
       "      <td>pasquale</td>\n",
       "    </tr>\n",
       "    <tr>\n",
       "      <th>9</th>\n",
       "      <td>831132.0</td>\n",
       "      <td>La Jolla</td>\n",
       "      <td>Joseph</td>\n",
       "      <td>1942864.0</td>\n",
       "      <td>Pasquale</td>\n",
       "      <td>University of California-San Diego</td>\n",
       "      <td>SAN DIEGO</td>\n",
       "      <td>PROFESSOR-ACAD YR-BUS/ECON/ENG</td>\n",
       "      <td>joseph</td>\n",
       "      <td>pasquale</td>\n",
       "    </tr>\n",
       "    <tr>\n",
       "      <th>10</th>\n",
       "      <td>836152.0</td>\n",
       "      <td>MENLO PARK</td>\n",
       "      <td>Mary</td>\n",
       "      <td>1774629.0</td>\n",
       "      <td>McCready</td>\n",
       "      <td>SRI International</td>\n",
       "      <td>BERKELEY</td>\n",
       "      <td>ACADEMIC COORD II-ACADEMIC YR</td>\n",
       "      <td>mary</td>\n",
       "      <td>mccready</td>\n",
       "    </tr>\n",
       "    <tr>\n",
       "      <th>11</th>\n",
       "      <td>836152.0</td>\n",
       "      <td>MENLO PARK</td>\n",
       "      <td>Mary</td>\n",
       "      <td>1837591.0</td>\n",
       "      <td>McCready</td>\n",
       "      <td>SRI International</td>\n",
       "      <td>IRVINE</td>\n",
       "      <td>SENIOR FINANCE ANALYST</td>\n",
       "      <td>mary</td>\n",
       "      <td>mccready</td>\n",
       "    </tr>\n",
       "    <tr>\n",
       "      <th>12</th>\n",
       "      <td>836152.0</td>\n",
       "      <td>MENLO PARK</td>\n",
       "      <td>Mary</td>\n",
       "      <td>1944081.0</td>\n",
       "      <td>McCready</td>\n",
       "      <td>SRI International</td>\n",
       "      <td>SAN DIEGO</td>\n",
       "      <td>MANAGER, CASE</td>\n",
       "      <td>mary</td>\n",
       "      <td>mccready</td>\n",
       "    </tr>\n",
       "    <tr>\n",
       "      <th>13</th>\n",
       "      <td>832819.0</td>\n",
       "      <td>BERKELEY</td>\n",
       "      <td>Ronald</td>\n",
       "      <td>1768965.0</td>\n",
       "      <td>Fearing</td>\n",
       "      <td>University of California-Berkeley</td>\n",
       "      <td>BERKELEY</td>\n",
       "      <td>PROFESSOR-ACAD YR-BUS/ECON/ENG</td>\n",
       "      <td>ronald</td>\n",
       "      <td>fearing</td>\n",
       "    </tr>\n",
       "  </tbody>\n",
       "</table>\n",
       "</div>"
      ],
      "text/plain": [
       "     AwardId     CityName FirstName         ID   LastName  \\\n",
       "0   805989.0        Davis    Albert  1814365.0    Schwarz   \n",
       "1   838258.0     BERKELEY       Leo  1765982.0      Blitz   \n",
       "2   825254.0  LOS ANGELES      Paul  1832316.0      Davis   \n",
       "3   825254.0  LOS ANGELES      Paul  1832352.0      Davis   \n",
       "4   825254.0  LOS ANGELES      Paul  1800777.0      Davis   \n",
       "5   825254.0  LOS ANGELES      Paul  1868502.0      Davis   \n",
       "6   825254.0  LOS ANGELES      Paul  1868593.0      Davis   \n",
       "7   833340.0   SANTA CRUZ  Gretchen  1999814.0  Andreasen   \n",
       "8   831132.0     La Jolla    Joseph  1887173.0   Pasquale   \n",
       "9   831132.0     La Jolla    Joseph  1942864.0   Pasquale   \n",
       "10  836152.0   MENLO PARK      Mary  1774629.0   McCready   \n",
       "11  836152.0   MENLO PARK      Mary  1837591.0   McCready   \n",
       "12  836152.0   MENLO PARK      Mary  1944081.0   McCready   \n",
       "13  832819.0     BERKELEY    Ronald  1768965.0    Fearing   \n",
       "\n",
       "                                    Name       campus  \\\n",
       "0         University of California-Davis        DAVIS   \n",
       "1      University of California-Berkeley     BERKELEY   \n",
       "2   University of California-Los Angeles       IRVINE   \n",
       "3   University of California-Los Angeles       IRVINE   \n",
       "4   University of California-Los Angeles        DAVIS   \n",
       "5   University of California-Los Angeles  LOS ANGELES   \n",
       "6   University of California-Los Angeles  LOS ANGELES   \n",
       "7    University of California-Santa Cruz   SANTA CRUZ   \n",
       "8     University of California-San Diego  LOS ANGELES   \n",
       "9     University of California-San Diego    SAN DIEGO   \n",
       "10                     SRI International     BERKELEY   \n",
       "11                     SRI International       IRVINE   \n",
       "12                     SRI International    SAN DIEGO   \n",
       "13     University of California-Berkeley     BERKELEY   \n",
       "\n",
       "                             title     first       last  \n",
       "0        PROFESSOR - ACADEMIC YEAR    albert    schwarz  \n",
       "1        PROFESSOR - ACADEMIC YEAR       leo      blitz  \n",
       "2    ANALYST, ADMINISTRATIVE, ASST      paul      davis  \n",
       "3      HOSPITAL UNIT SERV COORD II      paul      davis  \n",
       "4     RESEARCH _____ - FISCAL YEAR      paul      davis  \n",
       "5   PROGRAMMER/ANALYST IV - SUPERV      paul      davis  \n",
       "6        PROFESSOR - ACADEMIC YEAR      paul      davis  \n",
       "7   ADMIN/COORD/OFFICER(FUNC AREA)  gretchen  andreasen  \n",
       "8     REPRESENTATIVE, ACCESS, PRIN    joseph   pasquale  \n",
       "9   PROFESSOR-ACAD YR-BUS/ECON/ENG    joseph   pasquale  \n",
       "10   ACADEMIC COORD II-ACADEMIC YR      mary   mccready  \n",
       "11          SENIOR FINANCE ANALYST      mary   mccready  \n",
       "12                   MANAGER, CASE      mary   mccready  \n",
       "13  PROFESSOR-ACAD YR-BUS/ECON/ENG    ronald    fearing  "
      ]
     },
     "execution_count": 57,
     "metadata": {},
     "output_type": "execute_result"
    }
   ],
   "source": [
    "sel_col = ['AwardId', 'CityName', 'FirstName', 'ID', 'LastName', 'Name', 'campus', 'title', 'first', 'last']\n",
    "df_linked_data[sel_col]"
   ]
  },
  {
   "cell_type": "markdown",
   "metadata": {
    "collapsed": true
   },
   "source": [
    "[Back to Table of Contents](#Table-of-Contents)"
   ]
  },
  {
   "cell_type": "code",
   "execution_count": null,
   "metadata": {
    "collapsed": true
   },
   "outputs": [],
   "source": []
  }
 ],
 "metadata": {
  "kernelspec": {
   "display_name": "Python 3",
   "language": "python",
   "name": "python3"
  },
  "language_info": {
   "codemirror_mode": {
    "name": "ipython",
    "version": 3
   },
   "file_extension": ".py",
   "mimetype": "text/x-python",
   "name": "python",
   "nbconvert_exporter": "python",
   "pygments_lexer": "ipython3",
   "version": "3.4.3"
  }
 },
 "nbformat": 4,
 "nbformat_minor": 1
}
